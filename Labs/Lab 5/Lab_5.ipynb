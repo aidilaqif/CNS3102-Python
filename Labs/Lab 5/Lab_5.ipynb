{
  "nbformat": 4,
  "nbformat_minor": 0,
  "metadata": {
    "colab": {
      "provenance": []
    },
    "kernelspec": {
      "name": "python3",
      "display_name": "Python 3"
    },
    "language_info": {
      "name": "python"
    }
  },
  "cells": [
    {
      "cell_type": "markdown",
      "source": [
        "#Numpy Exercises\n"
      ],
      "metadata": {
        "id": "_68fBUY3fTFZ"
      }
    },
    {
      "cell_type": "markdown",
      "source": [
        "# Exercise 1"
      ],
      "metadata": {
        "id": "OPPJBTvLeM8y"
      }
    },
    {
      "cell_type": "code",
      "execution_count": null,
      "metadata": {
        "colab": {
          "base_uri": "https://localhost:8080/"
        },
        "id": "M26VRiiteIMQ",
        "outputId": "1b25b8ea-5211-4d87-c694-6e32da2ed3f2"
      },
      "outputs": [
        {
          "output_type": "execute_result",
          "data": {
            "text/plain": [
              "array([[ 80842, 333008, 202553, 140037,  81969],\n",
              "       [ 63857,  42105, 261540, 481981, 176739],\n",
              "       [489984, 326386, 110795, 394863,  25024],\n",
              "       [ 38317,  49982, 408830, 485118,  16119],\n",
              "       [407675, 231729, 265455, 109413, 103399],\n",
              "       [174677, 343356, 301717, 224120, 401101],\n",
              "       [140473, 254634, 112262,  25063, 108262],\n",
              "       [375059, 406983, 208947, 115641, 296685],\n",
              "       [444899, 129585, 171318, 313094, 425041],\n",
              "       [188411, 335140, 141681,  59641, 211420],\n",
              "       [287650,   8973, 477425, 382803, 465168],\n",
              "       [  3975,  32213, 160603, 275485, 388234],\n",
              "       [246225,  56174, 244097,   9350, 496966],\n",
              "       [225516, 273338,  73335, 283013, 212813],\n",
              "       [ 38175, 282399, 318413, 337639, 379802],\n",
              "       [198049, 101115, 419547, 260219, 325793],\n",
              "       [148593, 425024, 348570, 117968, 107007],\n",
              "       [ 52547, 180346, 178760, 305186, 262153],\n",
              "       [ 11835, 449971, 494184, 472031, 353049],\n",
              "       [476442,  35455, 191553, 384154,  29917]])"
            ]
          },
          "metadata": {},
          "execution_count": 2
        }
      ],
      "source": [
        "import numpy as np\n",
        "np.random.seed(21) # generate same set of random numbers whenever executed\n",
        "random_integers = np.random.randint(1, high=500000, size=(20, 5))\n",
        "random_integers"
      ]
    },
    {
      "cell_type": "markdown",
      "source": [
        "# Exercise 2\n",
        "Average value of the second column (to two decimal places)"
      ],
      "metadata": {
        "id": "Xqed-dTdguxD"
      }
    },
    {
      "cell_type": "code",
      "source": [
        "average_second_column = np.mean(random_integers[:, 1])\n",
        "print(f\"Average value of second column: {average_second_column:.2f}\")"
      ],
      "metadata": {
        "colab": {
          "base_uri": "https://localhost:8080/"
        },
        "id": "bO-IwIhPgmaN",
        "outputId": "9def1bea-92a4-4d36-d511-a3c6eae804fa"
      },
      "execution_count": null,
      "outputs": [
        {
          "output_type": "stream",
          "name": "stdout",
          "text": [
            "Average value of second column: 214895.80\n"
          ]
        }
      ]
    },
    {
      "cell_type": "markdown",
      "source": [
        "# Exercise 3\n",
        "Average value of the first 5 rows of the third and fourth columns"
      ],
      "metadata": {
        "id": "TWT-3dX3jbrJ"
      }
    },
    {
      "cell_type": "code",
      "source": [
        "average_third_fourth_columns = np.mean(random_integers[:5, 2:4])\n",
        "print(f\"Average value of the first 5 rows of the third and fourth columns: {average_third_fourth_columns:.2f}\")"
      ],
      "metadata": {
        "colab": {
          "base_uri": "https://localhost:8080/"
        },
        "id": "ce6NUejAjdhS",
        "outputId": "d6f8608f-46cf-419c-b6bd-9a62223e5210"
      },
      "execution_count": null,
      "outputs": [
        {
          "output_type": "stream",
          "name": "stdout",
          "text": [
            "Average value of the first 5 rows of the third and fourth columns: 286058.50\n"
          ]
        }
      ]
    },
    {
      "cell_type": "markdown",
      "source": [
        "#Exercise 6 - Checking Exercise 4 & 5"
      ],
      "metadata": {
        "id": "t1DVx1PoGwMt"
      }
    },
    {
      "cell_type": "code",
      "source": [
        "import numpy as np1\n",
        "first_matrix = np1.array([[1,2,3], [4,5,6]])\n",
        "print(first_matrix)"
      ],
      "metadata": {
        "colab": {
          "base_uri": "https://localhost:8080/"
        },
        "id": "ukPkb4n9mETD",
        "outputId": "d14a6815-eee2-4d2a-8641-c1ffb4be8177"
      },
      "execution_count": null,
      "outputs": [
        {
          "output_type": "stream",
          "name": "stdout",
          "text": [
            "[[1 2 3]\n",
            " [4 5 6]]\n"
          ]
        }
      ]
    },
    {
      "cell_type": "code",
      "source": [
        "second_matrix = np1.array([1,2,3])\n",
        "print(second_matrix)"
      ],
      "metadata": {
        "colab": {
          "base_uri": "https://localhost:8080/"
        },
        "id": "hZCU-YnEmdgX",
        "outputId": "3fd0ba61-dd95-4eb5-cb05-ddbea7383e3b"
      },
      "execution_count": null,
      "outputs": [
        {
          "output_type": "stream",
          "name": "stdout",
          "text": [
            "[1 2 3]\n"
          ]
        }
      ]
    },
    {
      "cell_type": "code",
      "source": [
        "first_matrix + second_matrix"
      ],
      "metadata": {
        "colab": {
          "base_uri": "https://localhost:8080/"
        },
        "id": "g5zBh-lbmpas",
        "outputId": "cb8a6993-4dd3-403e-91a0-a2e3ab5e7b78"
      },
      "execution_count": null,
      "outputs": [
        {
          "output_type": "execute_result",
          "data": {
            "text/plain": [
              "array([[2, 4, 6],\n",
              "       [5, 7, 9]])"
            ]
          },
          "metadata": {},
          "execution_count": 12
        }
      ]
    },
    {
      "cell_type": "code",
      "source": [
        "import numpy as np2\n",
        "\n",
        "my_vector = np2.array([1,2,3,4,5,6])\n",
        "selection = my_vector % 2 == 0\n",
        "my_vector[selection]"
      ],
      "metadata": {
        "colab": {
          "base_uri": "https://localhost:8080/",
          "height": 0
        },
        "id": "TQNq6HzlG1jt",
        "outputId": "f707fd32-fd8e-4ace-c411-eda3a043fb82"
      },
      "execution_count": 3,
      "outputs": [
        {
          "output_type": "execute_result",
          "data": {
            "text/plain": [
              "array([2, 4, 6])"
            ]
          },
          "metadata": {},
          "execution_count": 3
        }
      ]
    },
    {
      "cell_type": "markdown",
      "source": [
        "**Working With View**\n",
        "\n",
        "One of the nuances of can can easily lead to problems is that when one\n",
        "takes a slice of an array, one does not actually get a new array; rather, one is\n",
        "given a “view” on the original array, meaning they are sharing the same\n",
        "underlying data.\n",
        "This is similar to the idea that variables are just pointers, and that different\n",
        "variables may point to the same object (discussed in the Python v. R / Variables\n",
        "as Pointers tutorial [%5B../python_v_r.ipynb%5D].) But it is slightly different in\n",
        "that if two variables both point to the same set, the two variables will behave the\n",
        "same way. But if one variable points to an array, and a second variable is a slice\n",
        "of that array, they are both accessing the same data in the same array, but they\n",
        "present it differently. For example:"
      ],
      "metadata": {
        "id": "pMHBz5LAH2sb"
      }
    },
    {
      "cell_type": "code",
      "source": [
        "import numpy as np\n",
        "my_array = np.array([1,2,3,4])\n",
        "my_array"
      ],
      "metadata": {
        "colab": {
          "base_uri": "https://localhost:8080/",
          "height": 0
        },
        "id": "jWcwIU3zHUQj",
        "outputId": "1ee903ff-921c-42da-ffb2-3547afc91547"
      },
      "execution_count": 4,
      "outputs": [
        {
          "output_type": "execute_result",
          "data": {
            "text/plain": [
              "array([1, 2, 3, 4])"
            ]
          },
          "metadata": {},
          "execution_count": 4
        }
      ]
    },
    {
      "cell_type": "code",
      "source": [
        "my_slice = my_array[1:3]\n",
        "my_slice"
      ],
      "metadata": {
        "colab": {
          "base_uri": "https://localhost:8080/",
          "height": 0
        },
        "id": "Vuasy9axHfjM",
        "outputId": "b3e38801-96f9-458a-ed01-8dc99f91debd"
      },
      "execution_count": 5,
      "outputs": [
        {
          "output_type": "execute_result",
          "data": {
            "text/plain": [
              "array([2, 3])"
            ]
          },
          "metadata": {},
          "execution_count": 5
        }
      ]
    },
    {
      "cell_type": "markdown",
      "source": [
        "Since and are both pointing to the same underlying data,\n",
        "changes to one will propagate to the other. For example, if I modify the 2 entry in\n",
        "my_slice, it will appear in my_array:"
      ],
      "metadata": {
        "id": "qGEnvYk-II2f"
      }
    },
    {
      "cell_type": "code",
      "source": [
        "my_slice[0] = -1\n",
        "my_slice"
      ],
      "metadata": {
        "colab": {
          "base_uri": "https://localhost:8080/",
          "height": 0
        },
        "id": "5Tujl_X2HoHG",
        "outputId": "b0142458-c6f1-4a8a-babc-81f607a63671"
      },
      "execution_count": 6,
      "outputs": [
        {
          "output_type": "execute_result",
          "data": {
            "text/plain": [
              "array([-1,  3])"
            ]
          },
          "metadata": {},
          "execution_count": 6
        }
      ]
    },
    {
      "cell_type": "code",
      "source": [
        "my_array"
      ],
      "metadata": {
        "colab": {
          "base_uri": "https://localhost:8080/",
          "height": 0
        },
        "id": "se4YatkaHuUj",
        "outputId": "e4fb8de5-e8b6-42a0-a548-a8e545a73995"
      },
      "execution_count": 7,
      "outputs": [
        {
          "output_type": "execute_result",
          "data": {
            "text/plain": [
              "array([ 1, -1,  3,  4])"
            ]
          },
          "metadata": {},
          "execution_count": 7
        }
      ]
    },
    {
      "cell_type": "markdown",
      "source": [
        "But while and are accessing the same underlying data, they\n",
        "are indexed differently. We changed the first item (index 0) in *my_slice*, but that\n",
        "change impacted the entry in the second position of *my_array* (index 1):"
      ],
      "metadata": {
        "id": "5MwvrzLWIMGh"
      }
    },
    {
      "cell_type": "code",
      "source": [
        "my_array[1]"
      ],
      "metadata": {
        "colab": {
          "base_uri": "https://localhost:8080/",
          "height": 0
        },
        "id": "N6CTxNbDHwRj",
        "outputId": "bbb57b45-4f9b-4b7a-b2f9-27b20c3431dc"
      },
      "execution_count": 8,
      "outputs": [
        {
          "output_type": "execute_result",
          "data": {
            "text/plain": [
              "-1"
            ]
          },
          "metadata": {},
          "execution_count": 8
        }
      ]
    },
    {
      "cell_type": "markdown",
      "source": [
        "It is also worth emphasizing at this point that while slices will get you a view of\n",
        "an array, if you slice a Python list, you get a new object. This “view” behavior is\n",
        "entirely limited to numpy."
      ],
      "metadata": {
        "id": "bcNFq1_vIi5n"
      }
    },
    {
      "cell_type": "code",
      "source": [
        "x = [1,2,3]\n",
        "y = x[0:2]\n",
        "y[0] = \"a change\"\n",
        "y"
      ],
      "metadata": {
        "colab": {
          "base_uri": "https://localhost:8080/",
          "height": 0
        },
        "id": "Hl6WdnvFIfua",
        "outputId": "e24f2389-b360-4472-de86-92b75130285a"
      },
      "execution_count": 9,
      "outputs": [
        {
          "output_type": "execute_result",
          "data": {
            "text/plain": [
              "['a change', 2]"
            ]
          },
          "metadata": {},
          "execution_count": 9
        }
      ]
    },
    {
      "cell_type": "code",
      "source": [
        "x"
      ],
      "metadata": {
        "colab": {
          "base_uri": "https://localhost:8080/",
          "height": 0
        },
        "id": "GYDOKJ_OItIl",
        "outputId": "e88cb92a-37a6-4dd9-b526-29b4b6a4f6e6"
      },
      "execution_count": 10,
      "outputs": [
        {
          "output_type": "execute_result",
          "data": {
            "text/plain": [
              "[1, 2, 3]"
            ]
          },
          "metadata": {},
          "execution_count": 10
        }
      ]
    },
    {
      "cell_type": "markdown",
      "source": [
        "When do you get a view, and when do you get a copy?\n",
        "\n",
        "OK, now the really annoying thing: when do I get a view, and when do I get a\n",
        "copy?\n",
        "\n",
        "Generally speaking:\n",
        "\n",
        "- you get a view if you do a plain, basic slice of an array, and\n",
        "\n",
        "- the view remains a view if you edit it by modifying it using basic indexing\n",
        "(i.e. you use ``[ ]`` on the left side of the assignment operator).\n",
        "\n",
        "Outside of those two behaviors, you will usually get a copy.\n",
        "\n",
        "So, for example, this slice will get you a view:"
      ],
      "metadata": {
        "id": "Hf47khlFIyB1"
      }
    },
    {
      "cell_type": "code",
      "source": [
        "my_array = np.array([1,2,3])\n",
        "my_slice = my_array[1:3]\n",
        "my_slice[0] = -1\n",
        "my_array"
      ],
      "metadata": {
        "colab": {
          "base_uri": "https://localhost:8080/",
          "height": 0
        },
        "id": "sB1sBJg4JJz-",
        "outputId": "64ccd49c-6279-40fc-a007-72e76de54d1e"
      },
      "execution_count": 11,
      "outputs": [
        {
          "output_type": "execute_result",
          "data": {
            "text/plain": [
              "array([ 1, -1,  3])"
            ]
          },
          "metadata": {},
          "execution_count": 11
        }
      ]
    },
    {
      "cell_type": "markdown",
      "source": [
        "But if you use “fancy indexing” (where you pass a list when making your slice),\n",
        "you will NOT get a view:"
      ],
      "metadata": {
        "id": "TXMRJOC5Jbh0"
      }
    },
    {
      "cell_type": "code",
      "source": [
        "my_array = np.array([1, 2, 3])\n",
        "my_slice = my_array[[1,2]]\n",
        "my_slice[0] = -1\n",
        "my_array"
      ],
      "metadata": {
        "colab": {
          "base_uri": "https://localhost:8080/",
          "height": 0
        },
        "id": "Y2db_QwgJe1C",
        "outputId": "bf21a771-bc21-4323-aad9-fcd640caec30"
      },
      "execution_count": 12,
      "outputs": [
        {
          "output_type": "execute_result",
          "data": {
            "text/plain": [
              "array([1, 2, 3])"
            ]
          },
          "metadata": {},
          "execution_count": 12
        }
      ]
    },
    {
      "cell_type": "markdown",
      "source": [
        "Similarly, if you edit using basic indexing (like we did above), those edits will\n",
        "propogate from the slice back to the originally array (or the other way around).\n",
        "But if you modify a slice without using basic indexing, you get a copy, so changes\n",
        "won’t propagate:"
      ],
      "metadata": {
        "id": "7ZFjPLy1Jm5r"
      }
    },
    {
      "cell_type": "code",
      "source": [
        "my_array = np.array([1, 2, 3])\n",
        "my_slice = my_array[1:3]\n",
        "my_slice = my_slice * 2\n",
        "my_slice"
      ],
      "metadata": {
        "colab": {
          "base_uri": "https://localhost:8080/",
          "height": 0
        },
        "id": "eC6leEe0JoBp",
        "outputId": "75ca2ec0-914e-4612-c103-7a5f5cb7151b"
      },
      "execution_count": 13,
      "outputs": [
        {
          "output_type": "execute_result",
          "data": {
            "text/plain": [
              "array([4, 6])"
            ]
          },
          "metadata": {},
          "execution_count": 13
        }
      ]
    },
    {
      "cell_type": "code",
      "source": [
        "my_array"
      ],
      "metadata": {
        "colab": {
          "base_uri": "https://localhost:8080/",
          "height": 0
        },
        "id": "gHTyE_CiJpy7",
        "outputId": "4d950514-cbd8-493a-c1cc-2d52c82d603d"
      },
      "execution_count": 14,
      "outputs": [
        {
          "output_type": "execute_result",
          "data": {
            "text/plain": [
              "array([1, 2, 3])"
            ]
          },
          "metadata": {},
          "execution_count": 14
        }
      ]
    },
    {
      "cell_type": "markdown",
      "source": [
        "(If you want to do a full-array manipulation and preserve your view, always use\n",
        "square brackets on the left side of the assignment operator (=):"
      ],
      "metadata": {
        "id": "7Z2CW7DfJsus"
      }
    },
    {
      "cell_type": "code",
      "source": [
        "my_array = np.array([1, 2, 3])\n",
        "my_slice = my_array[1:3]\n",
        "my_slice[:] = my_slice * 2\n",
        "my_slice"
      ],
      "metadata": {
        "colab": {
          "base_uri": "https://localhost:8080/",
          "height": 0
        },
        "id": "YX78H1dxJrlp",
        "outputId": "40741ab6-c9af-4c45-cb17-a2fb3455b337"
      },
      "execution_count": 15,
      "outputs": [
        {
          "output_type": "execute_result",
          "data": {
            "text/plain": [
              "array([4, 6])"
            ]
          },
          "metadata": {},
          "execution_count": 15
        }
      ]
    },
    {
      "cell_type": "code",
      "source": [
        "my_array"
      ],
      "metadata": {
        "colab": {
          "base_uri": "https://localhost:8080/",
          "height": 0
        },
        "id": "CukSUMj8J-FD",
        "outputId": "8f92a77b-a296-42d5-878e-95df3d8b7f8b"
      },
      "execution_count": 16,
      "outputs": [
        {
          "output_type": "execute_result",
          "data": {
            "text/plain": [
              "array([1, 4, 6])"
            ]
          },
          "metadata": {},
          "execution_count": 16
        }
      ]
    },
    {
      "cell_type": "markdown",
      "source": [
        "**How to Manage Views In Your Work**\n",
        "\n",
        "Views exist because they are more memory efficient (a view doesn’t require\n",
        "making a new copy of data) and faster (again, no copying required). And if you’re\n",
        "doing super-computer simulations where every milisecond counts, or working\n",
        "with truely huge datasets, this is important. But for most data scientists, I tend to\n",
        "see it as a a trap waiting to get you in trouble.\n",
        "\n",
        "This is especially true since there’s no reliable way to check if two arrays are\n",
        "views of one another except by modifying one and seeing if the other changes.\n",
        "(You may find people saying otherwise; don’t trust them!). The way we use in\n",
        "regular Python to see if two variables point at the same object doesn’t work for\n",
        "numpy arrays. Thus its on you to remember the rules.\n",
        "\n",
        "**My advice on copies:** UNLESS YOU REALLY NEED A VIEW AND ARE BEING\n",
        "SUPER CAREFUL: don’t use views for anything but looking at data. If you ever\n",
        "want to modify or work with a sub-array, just make a copy to be safe. Computers\n",
        "are fast enough and ram is plentiful enough that for most applications, it’s\n",
        "almost never a problem."
      ],
      "metadata": {
        "id": "LlC6Yw3rKKmf"
      }
    },
    {
      "cell_type": "markdown",
      "source": [
        "# Exercise 10 - Checking Exercise 7 until 9"
      ],
      "metadata": {
        "id": "HhuGfT2GKY_q"
      }
    },
    {
      "cell_type": "code",
      "source": [
        "my_array = np.array([[1, 2, 3], [4, 5, 6]])\n",
        "print(my_array)"
      ],
      "metadata": {
        "colab": {
          "base_uri": "https://localhost:8080/",
          "height": 0
        },
        "id": "aGFXl52VKmVE",
        "outputId": "451b35bd-90b0-496d-c421-ed0b772ae34f"
      },
      "execution_count": 24,
      "outputs": [
        {
          "output_type": "stream",
          "name": "stdout",
          "text": [
            "[[1 2 3]\n",
            " [4 5 6]]\n"
          ]
        }
      ]
    },
    {
      "cell_type": "markdown",
      "source": [
        "Now, on a piece of paper write down the value of my_slice = my_array[:, 1:3]."
      ],
      "metadata": {
        "id": "-fgQ5saGK7X7"
      }
    },
    {
      "cell_type": "code",
      "source": [
        "my_slice = my_array[:, 1:3]\n",
        "my_slice"
      ],
      "metadata": {
        "colab": {
          "base_uri": "https://localhost:8080/",
          "height": 0
        },
        "id": "bMmWLz4lKsGi",
        "outputId": "f44ffafe-b9fc-4d02-e114-1afe2789309a"
      },
      "execution_count": 25,
      "outputs": [
        {
          "output_type": "execute_result",
          "data": {
            "text/plain": [
              "array([[2, 3],\n",
              "       [5, 6]])"
            ]
          },
          "metadata": {},
          "execution_count": 25
        }
      ]
    },
    {
      "cell_type": "markdown",
      "source": [
        "Now suppose we run the code my_array[:, :] = my_array * 2. Now what\n",
        "does look like?"
      ],
      "metadata": {
        "id": "9LH7P4arK9Gj"
      }
    },
    {
      "cell_type": "code",
      "source": [
        "my_array[:,:] = my_array * 2\n",
        "my_slice"
      ],
      "metadata": {
        "colab": {
          "base_uri": "https://localhost:8080/",
          "height": 0
        },
        "id": "MTzNyB18LOfD",
        "outputId": "edfd5c44-cd56-477d-f657-b0a53209471a"
      },
      "execution_count": 26,
      "outputs": [
        {
          "output_type": "execute_result",
          "data": {
            "text/plain": [
              "array([[ 4,  6],\n",
              "       [10, 12]])"
            ]
          },
          "metadata": {},
          "execution_count": 26
        }
      ]
    },
    {
      "cell_type": "markdown",
      "source": [
        "Now suppose we run my_array = my_array * 2. What does look like?"
      ],
      "metadata": {
        "id": "Qoe_16X1LjAH"
      }
    },
    {
      "cell_type": "code",
      "source": [
        "my_array = my_array * 2\n",
        "my_slice"
      ],
      "metadata": {
        "colab": {
          "base_uri": "https://localhost:8080/",
          "height": 0
        },
        "id": "lxNULzdfLWjL",
        "outputId": "45dfaa54-d672-48ea-ac42-2dc277e21460"
      },
      "execution_count": 27,
      "outputs": [
        {
          "output_type": "execute_result",
          "data": {
            "text/plain": [
              "array([[ 4,  6],\n",
              "       [10, 12]])"
            ]
          },
          "metadata": {},
          "execution_count": 27
        }
      ]
    },
    {
      "cell_type": "markdown",
      "source": [
        "#Exercise 11 - Checking Exercise 11"
      ],
      "metadata": {
        "id": "XojAyU22YVW2"
      }
    },
    {
      "cell_type": "code",
      "source": [
        "my_array = np.array([[1, 2, 3], [4, 5, 6]])\n",
        "print(my_array)"
      ],
      "metadata": {
        "colab": {
          "base_uri": "https://localhost:8080/",
          "height": 0
        },
        "id": "XiWPMJ8rY26W",
        "outputId": "aa6d575f-35d6-4c3f-cc13-1152068d7bd6"
      },
      "execution_count": 28,
      "outputs": [
        {
          "output_type": "stream",
          "name": "stdout",
          "text": [
            "[[1 2 3]\n",
            " [4 5 6]]\n"
          ]
        }
      ]
    },
    {
      "cell_type": "code",
      "source": [
        "my_slice = my_array[:, 1:3].copy()\n",
        "print(my_slice)"
      ],
      "metadata": {
        "colab": {
          "base_uri": "https://localhost:8080/",
          "height": 0
        },
        "id": "ejamj3BiY8r9",
        "outputId": "03de4b55-3764-4b5c-c566-5be4760e5e00"
      },
      "execution_count": 29,
      "outputs": [
        {
          "output_type": "stream",
          "name": "stdout",
          "text": [
            "[[2 3]\n",
            " [5 6]]\n"
          ]
        }
      ]
    },
    {
      "cell_type": "markdown",
      "source": [
        "Now suppose we run the following code: my_array[:, :] = my_array * 2.\n",
        "What does my_slice look like?"
      ],
      "metadata": {
        "id": "h-exwTXuZryZ"
      }
    },
    {
      "cell_type": "code",
      "source": [
        "my_array[:,:] = my_array * 2\n",
        "my_slice"
      ],
      "metadata": {
        "colab": {
          "base_uri": "https://localhost:8080/",
          "height": 0
        },
        "id": "RA7ca3SpZtUu",
        "outputId": "a6f6ac8b-b29f-4e71-bd22-125360589cd0"
      },
      "execution_count": 30,
      "outputs": [
        {
          "output_type": "execute_result",
          "data": {
            "text/plain": [
              "array([[2, 3],\n",
              "       [5, 6]])"
            ]
          },
          "metadata": {},
          "execution_count": 30
        }
      ]
    },
    {
      "cell_type": "markdown",
      "source": [
        "You will find some tutorials online that suggest you can test if one array is a view\n",
        "of another with the code my_slice.base is my_array. The problem is… this\n",
        "doesn’t always work. It does sometimes:"
      ],
      "metadata": {
        "id": "MHS58mLqZ3qD"
      }
    },
    {
      "cell_type": "code",
      "source": [
        "my_array = np.array([1, 2, 3])\n",
        "my_slice = my_array[1:3]\n",
        "my_slice.base is my_array"
      ],
      "metadata": {
        "colab": {
          "base_uri": "https://localhost:8080/",
          "height": 0
        },
        "id": "qCF-43h_Z8n_",
        "outputId": "68351d10-31f7-4169-b0c8-3e3c7c61329c"
      },
      "execution_count": 31,
      "outputs": [
        {
          "output_type": "execute_result",
          "data": {
            "text/plain": [
              "True"
            ]
          },
          "metadata": {},
          "execution_count": 31
        }
      ]
    },
    {
      "cell_type": "markdown",
      "source": [
        "But not always. Here's an example where my_array and my_slice point to the same data, but my_slice.base is my_array returns false."
      ],
      "metadata": {
        "id": "_NC887qfaCwH"
      }
    },
    {
      "cell_type": "code",
      "source": [
        "my_array = np.array([1, 2, 3])\n",
        "my_array = my_array[1:4]\n",
        "my_slice = my_array[1:3]\n",
        "my_slice.base is my_array"
      ],
      "metadata": {
        "colab": {
          "base_uri": "https://localhost:8080/",
          "height": 0
        },
        "id": "-Uul2sBDaPXs",
        "outputId": "972bdbe7-8f3f-4991-a8cb-27ab6c85ddd6"
      },
      "execution_count": 32,
      "outputs": [
        {
          "output_type": "execute_result",
          "data": {
            "text/plain": [
              "False"
            ]
          },
          "metadata": {},
          "execution_count": 32
        }
      ]
    },
    {
      "cell_type": "code",
      "source": [
        "my_slice"
      ],
      "metadata": {
        "colab": {
          "base_uri": "https://localhost:8080/",
          "height": 0
        },
        "id": "Cqe3pfkAaSFD",
        "outputId": "ee6071fd-8caa-4b2b-f3b3-11a3351e2a6c"
      },
      "execution_count": 33,
      "outputs": [
        {
          "output_type": "execute_result",
          "data": {
            "text/plain": [
              "array([3])"
            ]
          },
          "metadata": {},
          "execution_count": 33
        }
      ]
    },
    {
      "cell_type": "code",
      "source": [
        "my_array"
      ],
      "metadata": {
        "colab": {
          "base_uri": "https://localhost:8080/",
          "height": 0
        },
        "id": "dWY7W4SoaURe",
        "outputId": "c934fa85-ca9b-4981-ad21-2248502edf3e"
      },
      "execution_count": 34,
      "outputs": [
        {
          "output_type": "execute_result",
          "data": {
            "text/plain": [
              "array([2, 3])"
            ]
          },
          "metadata": {},
          "execution_count": 34
        }
      ]
    },
    {
      "cell_type": "code",
      "source": [
        "# Change to 'my_slice' still impacts 'my_array'\n",
        "my_slice[0] = -1\n",
        "my_array"
      ],
      "metadata": {
        "colab": {
          "base_uri": "https://localhost:8080/",
          "height": 0
        },
        "id": "f4nWVFpBaZxL",
        "outputId": "8692e1a7-15be-4566-c443-18cbb6d69787"
      },
      "execution_count": 35,
      "outputs": [
        {
          "output_type": "execute_result",
          "data": {
            "text/plain": [
              "array([ 2, -1])"
            ]
          },
          "metadata": {},
          "execution_count": 35
        }
      ]
    },
    {
      "cell_type": "markdown",
      "source": [
        "The reason is that the .base property can be defined recursively. In this case, the slicing of my_array made my_array a view on data you can no longer access, so they actually do both point to the same data, but that data is not my_array, it's my_array.base. So:"
      ],
      "metadata": {
        "id": "VZPeOspBaiCL"
      }
    },
    {
      "cell_type": "code",
      "source": [
        "my_slice.base is my_array.base"
      ],
      "metadata": {
        "colab": {
          "base_uri": "https://localhost:8080/",
          "height": 0
        },
        "id": "xdSvcT3-axa2",
        "outputId": "4aa6426e-5c55-4969-e09d-f446ab05dcfe"
      },
      "execution_count": 36,
      "outputs": [
        {
          "output_type": "execute_result",
          "data": {
            "text/plain": [
              "True"
            ]
          },
          "metadata": {},
          "execution_count": 36
        }
      ]
    },
    {
      "cell_type": "markdown",
      "source": [
        "In practice, you can get infinite chains of .base.base....\n",
        "\n",
        "And yes, if this is making your head hurt, that’s because you’re doing it right. :)"
      ],
      "metadata": {
        "id": "tzZX0hdoa2t1"
      }
    }
  ]
}