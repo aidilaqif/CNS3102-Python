{
  "nbformat": 4,
  "nbformat_minor": 0,
  "metadata": {
    "colab": {
      "provenance": []
    },
    "kernelspec": {
      "name": "python3",
      "display_name": "Python 3"
    },
    "language_info": {
      "name": "python"
    }
  },
  "cells": [
    {
      "cell_type": "markdown",
      "source": [
        "**Question 1**"
      ],
      "metadata": {
        "id": "1aKu8t1brrCG"
      }
    },
    {
      "cell_type": "code",
      "execution_count": null,
      "metadata": {
        "id": "E297iVhoTME2",
        "colab": {
          "base_uri": "https://localhost:8080/"
        },
        "outputId": "56144a28-e641-4109-e92f-c90b1cedfb9b"
      },
      "outputs": [
        {
          "output_type": "stream",
          "name": "stdout",
          "text": [
            "\n",
            "Choose the operation: \n",
            "1. Addition \n",
            "2. Subtraction \n",
            "3. Multiply \n",
            "4. Divide\n",
            "Select the number of operation: 1\n",
            "Enter the first number: 3\n",
            "Enter the second number: 4\n",
            "The sum of numbers is:  7.0\n"
          ]
        }
      ],
      "source": [
        "# Function to perform addition\n",
        "def addition(n1, n2):\n",
        "    return n1 + n2\n",
        "\n",
        "# Function to perform subtraction\n",
        "def subtraction(n1, n2):\n",
        "    return n1 - n2\n",
        "\n",
        "# Function to perform multiplication\n",
        "def multiply(n1, n2):\n",
        "    return n1 * n2\n",
        "\n",
        "# Function to perform division\n",
        "def divide(n1, n2):\n",
        "    # Check for division by zero\n",
        "    if n2 == 0:\n",
        "        return \"Error! Division by zero.\"\n",
        "    return n1 / n2\n",
        "\n",
        "# Function to get a valid number from the user\n",
        "def get_number(prompt):\n",
        "    while True:\n",
        "        try:\n",
        "            # Prompt user for a number\n",
        "            return float(input(prompt))\n",
        "        except ValueError:\n",
        "            # Handle invalid input\n",
        "            print(\"Invalid input. Please enter a number.\")\n",
        "\n",
        "# Function to get a valid operation from the user\n",
        "def get_select():\n",
        "    print(\"\\nChoose the operation: \\n1. Addition \\n2. Subtraction \\n3. Multiply \\n4. Divide\")\n",
        "    while True:\n",
        "        try:\n",
        "            # Prompt user for an operation\n",
        "            select = int(input(\"Select the number of operation: \"))\n",
        "            if 1 <= select <= 4:\n",
        "                # Return the valid operation\n",
        "                return select\n",
        "            else:\n",
        "                # Handle invalid operation selection\n",
        "                print(\"Invalid input. Please select a number between 1 and 4.\")\n",
        "        except ValueError:\n",
        "            # Handle invalid input\n",
        "            print(\"Invalid input. Please enter a number.\")\n",
        "\n",
        "# Get the selected operation from the user\n",
        "select = get_select()\n",
        "\n",
        "# Get the two numbers from the user\n",
        "num1 = get_number(\"Enter the first number: \")\n",
        "num2 = get_number(\"Enter the second number: \")\n",
        "\n",
        "# Perform the selected operation and display the result\n",
        "if select == 1:\n",
        "    print(\"The sum of numbers is: \", addition(num1, num2))\n",
        "elif select == 2:\n",
        "    print(\"The subtracted number is: \", subtraction(num1, num2))\n",
        "elif select == 3:\n",
        "    print(\"The multiplied number is: \", multiply(num1, num2))\n",
        "elif select == 4:\n",
        "    print(\"The divided number is: \", divide(num1, num2))\n",
        "\n",
        "\n"
      ]
    }
  ]
}