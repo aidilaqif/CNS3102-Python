{
  "nbformat": 4,
  "nbformat_minor": 0,
  "metadata": {
    "colab": {
      "provenance": []
    },
    "kernelspec": {
      "name": "python3",
      "display_name": "Python 3"
    },
    "language_info": {
      "name": "python"
    }
  },
  "cells": [
    {
      "cell_type": "markdown",
      "source": [
        "# Question 2\n",
        "Create a python program using functions that can create a new file, check whether the file exists or not, and append new data to the file.\n",
        "Remember to close the file."
      ],
      "metadata": {
        "id": "WLH9zwii3LGr"
      }
    },
    {
      "cell_type": "code",
      "source": [
        "# function to create file\n",
        "def createFile(fileName):\n",
        "  try:\n",
        "    file = open(fileName, \"x\")\n",
        "    file.close()\n",
        "    print(f\"File '{fileName}' created successfully\")\n",
        "  except Exception as e:\n",
        "    print(f\"Error: '{e}'\")"
      ],
      "metadata": {
        "id": "5Pxn7ZDgdhKa"
      },
      "execution_count": null,
      "outputs": []
    },
    {
      "cell_type": "code",
      "source": [
        "# function to read file\n",
        "def readFile(fileName):\n",
        "  try:\n",
        "    file = open(fileName, \"r\")\n",
        "    print(f\"Content of '{fileName}' :'{file.read()}'\")\n",
        "    file.close()\n",
        "  except Exception as e:\n",
        "    print(f\"Error: '{e}'\")"
      ],
      "metadata": {
        "id": "UXMd4tuQ-ZEd"
      },
      "execution_count": null,
      "outputs": []
    },
    {
      "cell_type": "code",
      "source": [
        "import os\n",
        "\n",
        "# function to check wether file exist\n",
        "def fileExist(fileName) :\n",
        "  try:\n",
        "    if os.path.exists(fileName):\n",
        "      print(f\"File '{fileName}' exists already.\")\n",
        "      readFile(fileName);\n",
        "    else:\n",
        "      print(f\"File '{fileName}' does not exist.\\nProceed in creating the file.\")\n",
        "      createFile(fileName)\n",
        "  except Exception as e:\n",
        "    print(f\"Error: '{e}'\")"
      ],
      "metadata": {
        "id": "UF00ON1837h2"
      },
      "execution_count": null,
      "outputs": []
    },
    {
      "cell_type": "code",
      "source": [
        "# function to add new data\n",
        "def addData(fileName, data):\n",
        "  try:\n",
        "    file = open(fileName, \"a\")\n",
        "    file.write(data)\n",
        "    file.close()\n",
        "    print(f\"Data added to '{fileName}' successfully.\")\n",
        "  except Exception as e:\n",
        "    print(f\"Error: '{e}'\")"
      ],
      "metadata": {
        "id": "WjWPcXkU33VX"
      },
      "execution_count": null,
      "outputs": []
    },
    {
      "cell_type": "code",
      "source": [
        "# function to overwrite data\n",
        "def overWriteData(fileName, data):\n",
        "  try:\n",
        "    file = open(fileName, \"w\")\n",
        "    file.write(data)\n",
        "    file.close()\n",
        "    print(f\"Data overwritten in '{fileName}' successfully.\")\n",
        "  except Exception as e:\n",
        "    print(f\"Error: '{e}'\")"
      ],
      "metadata": {
        "id": "ExRl8hNG3pra"
      },
      "execution_count": null,
      "outputs": []
    },
    {
      "cell_type": "code",
      "source": [
        "# main\n",
        "\n",
        "fileName = input(\"Enter file name: \") # Prompt user for filename\n",
        "fileExist(fileName) # Check existance of file\n",
        "\n",
        "print(\"\"\"Choice:\n",
        "  1. Add new data\n",
        "  2. Overwrite data\n",
        "\"\"\")\n",
        "\n",
        "while True:\n",
        "  choice = input(\"Enter your choice ('1' or '2'):\") # Prompt user for input choices\n",
        "  if choice == '1':\n",
        "    data = input(\"Enter data to be added:\")\n",
        "    addData(fileName, data) # Add data at endline of file\n",
        "    readFile(fileName)\n",
        "    break;\n",
        "  elif choice == '2':\n",
        "    data = input(\"Enter data to be overwritten:\")\n",
        "    overWriteData(fileName, data) # Overwrite data of the file\n",
        "    readFile(fileName)\n",
        "    break;\n",
        "  else:\n",
        "    print(\"Invalid choice. Please try again\")\n",
        "\n"
      ],
      "metadata": {
        "colab": {
          "base_uri": "https://localhost:8080/"
        },
        "id": "qFzTK2Xb7INB",
        "outputId": "68ab99b5-46c4-40b9-cde7-2726dfeb2328"
      },
      "execution_count": null,
      "outputs": [
        {
          "output_type": "stream",
          "name": "stdout",
          "text": [
            "Enter file name: hello.txt\n",
            "File 'hello.txt' exists already.\n",
            "Content of 'hello.txt' :'hellowhy'\n",
            "Choice:\n",
            "  1. Add new data\n",
            "  2. Overwrite data\n",
            "\n",
            "Enter your choice ('1' or '2'):2\n",
            "Enter data to be overwritten:1234\n",
            "Data overwritten in 'hello.txt' successfully.\n",
            "Content of 'hello.txt' :'1234'\n"
          ]
        }
      ]
    }
  ]
}