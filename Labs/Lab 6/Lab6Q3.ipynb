{
  "nbformat": 4,
  "nbformat_minor": 0,
  "metadata": {
    "colab": {
      "provenance": []
    },
    "kernelspec": {
      "name": "python3",
      "display_name": "Python 3"
    },
    "language_info": {
      "name": "python"
    }
  },
  "cells": [
    {
      "cell_type": "markdown",
      "source": [
        "**Question 3**"
      ],
      "metadata": {
        "id": "YfDVZLSgLe07"
      }
    },
    {
      "cell_type": "code",
      "execution_count": null,
      "metadata": {
        "colab": {
          "base_uri": "https://localhost:8080/"
        },
        "id": "kpC31pdwu5bF",
        "outputId": "f3b79c2f-fc0f-4f8f-a648-cfbacfb17acb"
      },
      "outputs": [
        {
          "output_type": "stream",
          "name": "stdout",
          "text": [
            "3\n",
            "0\n",
            "1\n"
          ]
        }
      ],
      "source": [
        "def risiko(attacker, defender):\n",
        "    # Sort the rolls of both players in descending order\n",
        "    attacker.sort(reverse=True)\n",
        "    defender.sort(reverse=True)\n",
        "\n",
        "    # Determine the minimum number of comparisons needed\n",
        "    min_dice = min(len(attacker), len(defender))\n",
        "\n",
        "    # Initialize variable to count armies lost by the defender\n",
        "    armies_lost = 0\n",
        "\n",
        "    # Iterate over the minimum number of dice rolled by either player\n",
        "    for i in range(min_dice):\n",
        "        if attacker[i] > defender[i]:\n",
        "            # Attacker wins, defender loses an army\n",
        "            armies_lost += 1\n",
        "        # In case of a tie or defender wins, no change in armies\n",
        "\n",
        "    return armies_lost\n",
        "\n",
        "# Test cases\n",
        "print(risiko([3, 6, 4], [2, 5, 3]))\n",
        "print(risiko([3, 6], [6, 4, 4]))\n",
        "print(risiko([3, 1], [1]))\n"
      ]
    }
  ]
}