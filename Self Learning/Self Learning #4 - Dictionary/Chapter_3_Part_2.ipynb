{
  "nbformat": 4,
  "nbformat_minor": 0,
  "metadata": {
    "colab": {
      "provenance": []
    },
    "kernelspec": {
      "name": "python3",
      "display_name": "Python 3"
    },
    "language_info": {
      "name": "python"
    }
  },
  "cells": [
    {
      "cell_type": "code",
      "execution_count": 1,
      "metadata": {
        "id": "xnlBCRQXG9JJ",
        "outputId": "be05fe78-365f-4116-ee72-ea40f1f9acd1",
        "colab": {
          "base_uri": "https://localhost:8080/"
        }
      },
      "outputs": [
        {
          "output_type": "stream",
          "name": "stdout",
          "text": [
            "Mustang\n",
            "{'brand': 'Ford', 'model': 'Mustang', 'year': 2023}\n"
          ]
        }
      ],
      "source": [
        "thisdict = {\n",
        "    \"brand\": \"Ford\",\n",
        "    \"model\": \"Mustang\",\n",
        "    \"year\": 1999\n",
        "}\n",
        "#print(thisdict)\n",
        "\n",
        "#Accessing the value using key\n",
        "x = thisdict[\"model\"]\n",
        "print (x)\n",
        "\n",
        "#Accessing the value using get method\n",
        "#x = thisdict.get(\"brand\")\n",
        "#print (x)\n",
        "\n",
        "#Changing the value in dictionary\n",
        "thisdict[\"year\"] = 2023\n",
        "print (thisdict)"
      ]
    },
    {
      "cell_type": "code",
      "source": [
        "color = {\"col1\": \"Red\", \"col2\": \"Green\", \"col3\": \"Orange\"}\n",
        "print (color)\n",
        "color = {\"col2\": \"Green\", \"col1\": \"Red\", \"col3\": \"Orange\"}\n",
        "print (color)\n",
        "\n",
        "#Accessing Orange value\n",
        "x = color[\"col3\"]\n",
        "print (x)\n",
        "\n",
        "#get value by key:\n",
        "color.get(\"col3\")"
      ],
      "metadata": {
        "id": "VZanb0BCKlBz",
        "outputId": "e4babd12-595a-4743-81bf-0d2ce69a8e67",
        "colab": {
          "base_uri": "https://localhost:8080/",
          "height": 86
        }
      },
      "execution_count": 2,
      "outputs": [
        {
          "output_type": "stream",
          "name": "stdout",
          "text": [
            "{'col1': 'Red', 'col2': 'Green', 'col3': 'Orange'}\n",
            "{'col2': 'Green', 'col1': 'Red', 'col3': 'Orange'}\n",
            "Orange\n"
          ]
        },
        {
          "output_type": "execute_result",
          "data": {
            "text/plain": [
              "'Orange'"
            ],
            "application/vnd.google.colaboratory.intrinsic+json": {
              "type": "string"
            }
          },
          "metadata": {},
          "execution_count": 2
        }
      ]
    },
    {
      "cell_type": "code",
      "source": [
        "del(dic)\n",
        "dic = {'pdy1': 'dictionary'}\n",
        "print (dic)"
      ],
      "metadata": {
        "colab": {
          "base_uri": "https://localhost:8080/",
          "height": 173
        },
        "id": "d0jaZ1-9zBN_",
        "outputId": "33a4c42c-9249-4075-fb94-4127a93a2963"
      },
      "execution_count": 3,
      "outputs": [
        {
          "output_type": "error",
          "ename": "NameError",
          "evalue": "name 'dic' is not defined",
          "traceback": [
            "\u001b[0;31m---------------------------------------------------------------------------\u001b[0m",
            "\u001b[0;31mNameError\u001b[0m                                 Traceback (most recent call last)",
            "\u001b[0;32m<ipython-input-3-24eb0003fbb1>\u001b[0m in \u001b[0;36m<cell line: 1>\u001b[0;34m()\u001b[0m\n\u001b[0;32m----> 1\u001b[0;31m \u001b[0;32mdel\u001b[0m\u001b[0;34m(\u001b[0m\u001b[0mdic\u001b[0m\u001b[0;34m)\u001b[0m\u001b[0;34m\u001b[0m\u001b[0;34m\u001b[0m\u001b[0m\n\u001b[0m\u001b[1;32m      2\u001b[0m \u001b[0mdic\u001b[0m \u001b[0;34m=\u001b[0m \u001b[0;34m{\u001b[0m\u001b[0;34m'pdy1'\u001b[0m\u001b[0;34m:\u001b[0m \u001b[0;34m'dictionary'\u001b[0m\u001b[0;34m}\u001b[0m\u001b[0;34m\u001b[0m\u001b[0;34m\u001b[0m\u001b[0m\n\u001b[1;32m      3\u001b[0m \u001b[0mprint\u001b[0m \u001b[0;34m(\u001b[0m\u001b[0mdic\u001b[0m\u001b[0;34m)\u001b[0m\u001b[0;34m\u001b[0m\u001b[0;34m\u001b[0m\u001b[0m\n",
            "\u001b[0;31mNameError\u001b[0m: name 'dic' is not defined"
          ]
        }
      ]
    },
    {
      "cell_type": "code",
      "source": [
        "#more on same example\n",
        "dic['pdy2']='book'\n",
        "print (dic)\n"
      ],
      "metadata": {
        "id": "mVzqeJJFzT1H",
        "colab": {
          "base_uri": "https://localhost:8080/"
        },
        "outputId": "df5c0581-1dbe-4b05-d6f9-389003495076"
      },
      "execution_count": null,
      "outputs": [
        {
          "output_type": "stream",
          "name": "stdout",
          "text": [
            "{'pdy1': 'dictionary', 'pdy2': 'book'}\n"
          ]
        }
      ]
    },
    {
      "cell_type": "code",
      "source": [
        "#more on same example #2\n",
        "#del dic[\"pdy3\"]\n",
        "#del dic[\"pdy4\"]\n",
        "#dic['pdy3','pdy4']= 'magazine','comic'\n",
        "del dic['pdy3','pdy4']\n",
        "#dic['pdy4']= 'comic'\n",
        "print (dic)"
      ],
      "metadata": {
        "id": "Ktjiz6bfzkit",
        "colab": {
          "base_uri": "https://localhost:8080/"
        },
        "outputId": "470487c2-2511-41e4-8267-4a77fec8c2bb"
      },
      "execution_count": null,
      "outputs": [
        {
          "output_type": "stream",
          "name": "stdout",
          "text": [
            "{'pdy1': 'dictionary', 'pdy2': 'book'}\n"
          ]
        }
      ]
    },
    {
      "cell_type": "code",
      "source": [
        "#Using update() method to add key/value pairs to dictionary\n",
        "\n",
        "d = {0:10, 1:20, 2:30}\n",
        "print (d)\n",
        "\n",
        "d.update({3:40})\n",
        "print (d)"
      ],
      "metadata": {
        "id": "p2ywFCy_0VoU",
        "outputId": "bde4aa52-6084-4008-89f0-b755440a41b8",
        "colab": {
          "base_uri": "https://localhost:8080/"
        }
      },
      "execution_count": 4,
      "outputs": [
        {
          "output_type": "stream",
          "name": "stdout",
          "text": [
            "{0: 10, 1: 20, 2: 30}\n",
            "{0: 10, 1: 20, 2: 30, 3: 40}\n"
          ]
        }
      ]
    },
    {
      "cell_type": "code",
      "source": [
        "#Given a sample dictionary : {0:10, 1:20}\n",
        "#Expected result : {0:10, 1:20, 2:30}\n",
        "\n",
        "dic2 = {0:10, 1:20}\n",
        "dic2[2]=30\n",
        "print (dic2)\n",
        "\n",
        "#or\n",
        "\n",
        "dic3 = {0:10, 1:20}\n",
        "dic3.update({2:40})\n",
        "print(dic3)"
      ],
      "metadata": {
        "id": "HbEC6EQV084J",
        "outputId": "e66b52bc-8e9e-44ac-a3e9-6c0b98d48949",
        "colab": {
          "base_uri": "https://localhost:8080/"
        }
      },
      "execution_count": 5,
      "outputs": [
        {
          "output_type": "stream",
          "name": "stdout",
          "text": [
            "{0: 10, 1: 20, 2: 30}\n",
            "{0: 10, 1: 20, 2: 40}\n"
          ]
        }
      ]
    },
    {
      "cell_type": "code",
      "source": [
        "#Loop through a Dictionary\n",
        "dic4 = {'pdy1': 'dictionary', 'pdy2': 'book', 'pdy3': 'magazine', 'pdy4': 'comic'}\n",
        "\n",
        "#printing keys from dic4\n",
        "print('these are the keys in dic4:')\n",
        "for x in dic4:\n",
        "  print(x)\n",
        "\n",
        "\n"
      ],
      "metadata": {
        "id": "OxDFaSLq2GMD",
        "colab": {
          "base_uri": "https://localhost:8080/"
        },
        "outputId": "7f01ae29-1f9a-40b5-a15e-d7e338311596"
      },
      "execution_count": null,
      "outputs": [
        {
          "output_type": "stream",
          "name": "stdout",
          "text": [
            "these are the keys in dic4:\n",
            "pdy1\n",
            "pdy2\n",
            "pdy3\n",
            "pdy4\n"
          ]
        }
      ]
    },
    {
      "cell_type": "code",
      "source": [
        "#printing values from dic4\n",
        "print('these are the values in dic4:')\n",
        "for x in dic4:\n",
        "  print(dic4[x])"
      ],
      "metadata": {
        "id": "BcA0Lazv2tUP",
        "outputId": "d87f59d4-e299-42cf-dbed-2346d8d3abce",
        "colab": {
          "base_uri": "https://localhost:8080/",
          "height": 207
        }
      },
      "execution_count": 6,
      "outputs": [
        {
          "output_type": "stream",
          "name": "stdout",
          "text": [
            "these are the values in dic4:\n"
          ]
        },
        {
          "output_type": "error",
          "ename": "NameError",
          "evalue": "name 'dic4' is not defined",
          "traceback": [
            "\u001b[0;31m---------------------------------------------------------------------------\u001b[0m",
            "\u001b[0;31mNameError\u001b[0m                                 Traceback (most recent call last)",
            "\u001b[0;32m<ipython-input-6-e3a9f4e8b5b7>\u001b[0m in \u001b[0;36m<cell line: 3>\u001b[0;34m()\u001b[0m\n\u001b[1;32m      1\u001b[0m \u001b[0;31m#printing values from dic4\u001b[0m\u001b[0;34m\u001b[0m\u001b[0;34m\u001b[0m\u001b[0m\n\u001b[1;32m      2\u001b[0m \u001b[0mprint\u001b[0m\u001b[0;34m(\u001b[0m\u001b[0;34m'these are the values in dic4:'\u001b[0m\u001b[0;34m)\u001b[0m\u001b[0;34m\u001b[0m\u001b[0;34m\u001b[0m\u001b[0m\n\u001b[0;32m----> 3\u001b[0;31m \u001b[0;32mfor\u001b[0m \u001b[0mx\u001b[0m \u001b[0;32min\u001b[0m \u001b[0mdic4\u001b[0m\u001b[0;34m:\u001b[0m\u001b[0;34m\u001b[0m\u001b[0;34m\u001b[0m\u001b[0m\n\u001b[0m\u001b[1;32m      4\u001b[0m   \u001b[0mprint\u001b[0m\u001b[0;34m(\u001b[0m\u001b[0mdic4\u001b[0m\u001b[0;34m[\u001b[0m\u001b[0mx\u001b[0m\u001b[0;34m]\u001b[0m\u001b[0;34m)\u001b[0m\u001b[0;34m\u001b[0m\u001b[0;34m\u001b[0m\u001b[0m\n",
            "\u001b[0;31mNameError\u001b[0m: name 'dic4' is not defined"
          ]
        }
      ]
    },
    {
      "cell_type": "code",
      "source": [
        "# OR use method values() to printing values from dic4\n",
        "print('these are the values in dic4:')\n",
        "for x in dic4.values():\n",
        "  print(x)"
      ],
      "metadata": {
        "id": "_tsx6tye3Emc",
        "colab": {
          "base_uri": "https://localhost:8080/"
        },
        "outputId": "e0917a76-b62b-4950-f6ce-defb4ae09d36"
      },
      "execution_count": null,
      "outputs": [
        {
          "output_type": "stream",
          "name": "stdout",
          "text": [
            "these are the values in dic4:\n",
            "dictionary\n",
            "book\n",
            "magazine\n",
            "comic\n"
          ]
        }
      ]
    },
    {
      "cell_type": "code",
      "source": [
        "#loop through both keys and values by using items() method:\n",
        "\n",
        "for x,y in dic4.items():\n",
        "  print(x,y)"
      ],
      "metadata": {
        "id": "eZ6VUSYJ5Dgu",
        "colab": {
          "base_uri": "https://localhost:8080/"
        },
        "outputId": "01a8f85d-4f69-40dd-f5f3-3295af82911e"
      },
      "execution_count": null,
      "outputs": [
        {
          "output_type": "stream",
          "name": "stdout",
          "text": [
            "pdy1 dictionary\n",
            "pdy2 book\n",
            "pdy3 magazine\n",
            "pdy4 comic\n"
          ]
        }
      ]
    },
    {
      "cell_type": "code",
      "source": [
        "#to check if a specified key exists in dictionary, use 'in' keyword:\n",
        "\n",
        "if \"pdy3\" in dic4:\n",
        "  print(\"Yeszaaa, the 'pdy3' exists in the dictionary\")\n",
        "\n"
      ],
      "metadata": {
        "id": "-147IiNX5XDC",
        "colab": {
          "base_uri": "https://localhost:8080/"
        },
        "outputId": "8cb9d112-c4ef-460f-8345-5c095e27aced"
      },
      "execution_count": null,
      "outputs": [
        {
          "output_type": "stream",
          "name": "stdout",
          "text": [
            "Yeszaaa, the 'pdy3' exists in the dictionary\n"
          ]
        }
      ]
    },
    {
      "cell_type": "code",
      "source": [
        "#To know the length of our dictionay, use the len() method\n",
        "\n",
        "print (len(dic4))"
      ],
      "metadata": {
        "id": "_2chFwqt6JZl",
        "colab": {
          "base_uri": "https://localhost:8080/"
        },
        "outputId": "330e975c-d5b4-4cc3-d72f-65ead4330cc4"
      },
      "execution_count": null,
      "outputs": [
        {
          "output_type": "stream",
          "name": "stdout",
          "text": [
            "4\n"
          ]
        }
      ]
    },
    {
      "cell_type": "code",
      "source": [
        "#Removing items from Dictionary\n",
        "\n",
        "#You can use pop() method\n",
        "dic5 = {'pdy1': 'dictionary', 'pdy2': 'book', 'pdy3': 'magazine', 'pdy4': 'comic'}\n",
        "dic5.pop(\"pdy4\")\n",
        "print (dic5)\n",
        "\n",
        "dic5[\"pdy4\"] = \"comic\""
      ],
      "metadata": {
        "colab": {
          "base_uri": "https://localhost:8080/"
        },
        "id": "uVRj5AmV6t1n",
        "outputId": "0087959f-fffd-40b0-e6b0-ce9309b07082"
      },
      "execution_count": null,
      "outputs": [
        {
          "output_type": "stream",
          "name": "stdout",
          "text": [
            "{'pdy1': 'dictionary', 'pdy2': 'book', 'pdy3': 'magazine'}\n"
          ]
        }
      ]
    },
    {
      "cell_type": "code",
      "source": [
        "#OR you can use keyword 'del' :\n",
        "dic5[\"pdy3\"]=\"magazine\"\n",
        "print (dic5)\n",
        "\n",
        "del dic5[\"pdy3\"]\n",
        "print (dic5)"
      ],
      "metadata": {
        "colab": {
          "base_uri": "https://localhost:8080/"
        },
        "id": "u6Ft3zzR7FTc",
        "outputId": "1463945b-34f6-4c04-a6b4-c9255a8266b2"
      },
      "execution_count": null,
      "outputs": [
        {
          "output_type": "stream",
          "name": "stdout",
          "text": [
            "{'pdy1': 'dictionary', 'pdy2': 'book', 'pdy3': 'magazine', 'pdy4': 'comic'}\n",
            "{'pdy1': 'dictionary', 'pdy2': 'book', 'pdy4': 'comic'}\n"
          ]
        }
      ]
    },
    {
      "cell_type": "code",
      "source": [
        "#you can also delete the WHOLE dictionary\n",
        "\n",
        "dic5 = {'pdy1': 'dictionary', 'pdy2': 'book', 'pdy3': 'magazine', 'pdy4': 'comic'}\n",
        "\n",
        "del(dic5)\n",
        "print (dic5)"
      ],
      "metadata": {
        "id": "sXju0MLF77y9",
        "colab": {
          "base_uri": "https://localhost:8080/",
          "height": 193
        },
        "outputId": "af4a4706-f6a0-4b56-808a-0c279949ffdd"
      },
      "execution_count": null,
      "outputs": [
        {
          "output_type": "error",
          "ename": "NameError",
          "evalue": "name 'dic1' is not defined",
          "traceback": [
            "\u001b[0;31m---------------------------------------------------------------------------\u001b[0m",
            "\u001b[0;31mNameError\u001b[0m                                 Traceback (most recent call last)",
            "\u001b[0;32m<ipython-input-58-2750a04aa867>\u001b[0m in \u001b[0;36m<cell line: 5>\u001b[0;34m()\u001b[0m\n\u001b[1;32m      3\u001b[0m \u001b[0mdic5\u001b[0m \u001b[0;34m=\u001b[0m \u001b[0;34m{\u001b[0m\u001b[0;34m'pdy1'\u001b[0m\u001b[0;34m:\u001b[0m \u001b[0;34m'dictionary'\u001b[0m\u001b[0;34m,\u001b[0m \u001b[0;34m'pdy2'\u001b[0m\u001b[0;34m:\u001b[0m \u001b[0;34m'book'\u001b[0m\u001b[0;34m,\u001b[0m \u001b[0;34m'pdy3'\u001b[0m\u001b[0;34m:\u001b[0m \u001b[0;34m'magazine'\u001b[0m\u001b[0;34m,\u001b[0m \u001b[0;34m'pdy4'\u001b[0m\u001b[0;34m:\u001b[0m \u001b[0;34m'comic'\u001b[0m\u001b[0;34m}\u001b[0m\u001b[0;34m\u001b[0m\u001b[0;34m\u001b[0m\u001b[0m\n\u001b[1;32m      4\u001b[0m \u001b[0;34m\u001b[0m\u001b[0m\n\u001b[0;32m----> 5\u001b[0;31m \u001b[0;32mdel\u001b[0m\u001b[0;34m(\u001b[0m\u001b[0mdic1\u001b[0m\u001b[0;34m)\u001b[0m\u001b[0;34m\u001b[0m\u001b[0;34m\u001b[0m\u001b[0m\n\u001b[0m\u001b[1;32m      6\u001b[0m \u001b[0mprint\u001b[0m \u001b[0;34m(\u001b[0m\u001b[0mdic5\u001b[0m\u001b[0;34m)\u001b[0m\u001b[0;34m\u001b[0m\u001b[0;34m\u001b[0m\u001b[0m\n",
            "\u001b[0;31mNameError\u001b[0m: name 'dic1' is not defined"
          ]
        }
      ]
    },
    {
      "cell_type": "code",
      "source": [
        "#Example of Dictionary U\n",
        "\n",
        "text = \"This is a sample text to demonstrate word counting in Python\"\n",
        "\n",
        "word_count = {}\n",
        "\n",
        "for word in text.split():\n",
        "    if word in word_count:\n",
        "        word_count[word] += 1\n",
        "    else:\n",
        "        word_count[word] = 1\n",
        "\n",
        "print(\"Word count:\", word_count)"
      ],
      "metadata": {
        "colab": {
          "base_uri": "https://localhost:8080/"
        },
        "id": "7w8YXCZpBXSf",
        "outputId": "91481bb9-c6b8-443b-8d77-89b012de3643"
      },
      "execution_count": null,
      "outputs": [
        {
          "output_type": "stream",
          "name": "stdout",
          "text": [
            "Word count: {'This': 1, 'is': 1, 'a': 1, 'sample': 1, 'text': 1, 'to': 1, 'demonstrate': 1, 'word': 1, 'counting': 1, 'in': 1, 'Python': 1}\n"
          ]
        }
      ]
    }
  ]
}