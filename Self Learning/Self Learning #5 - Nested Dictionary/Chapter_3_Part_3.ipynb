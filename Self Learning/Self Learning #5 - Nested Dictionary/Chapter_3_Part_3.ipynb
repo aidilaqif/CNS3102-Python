{
  "nbformat": 4,
  "nbformat_minor": 0,
  "metadata": {
    "colab": {
      "provenance": []
    },
    "kernelspec": {
      "name": "python3",
      "display_name": "Python 3"
    },
    "language_info": {
      "name": "python"
    }
  },
  "cells": [
    {
      "cell_type": "code",
      "execution_count": null,
      "metadata": {
        "id": "sMMB95RvoVLX",
        "colab": {
          "base_uri": "https://localhost:8080/"
        },
        "outputId": "3e200aa3-36c2-4528-c8fd-0c91afee6252"
      },
      "outputs": [
        {
          "output_type": "stream",
          "name": "stdout",
          "text": [
            "{'child1': {'name': 'Ain Aliya', 'year': 2002}, 'child2': {'name': 'Ain Safieya', 'year': 2004}, 'child3': {'name': 'Ain Ariesya', 'year': 2007}, 'child4': {'name': 'Qaseh Nur Ain', 'year': 2011}}\n"
          ]
        }
      ],
      "source": [
        "#Creating a nested dictionary\n",
        "my_family = {\n",
        "   \"child1\": {\n",
        "    \"name\": \"Ain Aliya\",\n",
        "    \"year\": 2002\n",
        "  },\n",
        "    \"child2\": {\n",
        "    \"name\" : \"Ain Safieya\",\n",
        "    \"year\" : 2004\n",
        "  },\n",
        "    \"child3\": {\n",
        "    \"name\" : \"Ain Ariesya\",\n",
        "    \"year\" : 2007\n",
        "  },\n",
        "    \"child4\":{\n",
        "    \"name\" : \"Qaseh Nur Ain\",\n",
        "    \"year\" : 2011\n",
        "  }\n",
        "}\n",
        "\n",
        "print(my_family)\n"
      ]
    },
    {
      "cell_type": "code",
      "source": [
        "#Three (3) existing dictionaries added to a new dictionary\n",
        "\n",
        "child1 = {\n",
        "  \"name\" : \"Emil\",\n",
        "  \"year\" : 2004\n",
        "}\n",
        "child2 = {\n",
        "  \"name\" : \"Tobias\",\n",
        "  \"year\" : 2007\n",
        "}\n",
        "child3 = {\n",
        "  \"name\" : \"Linus\",\n",
        "  \"year\" : 2011\n",
        "}\n",
        "\n",
        "myfamily = {\n",
        "  \"child1\" : child1,\n",
        "  \"child2\" : child2,\n",
        "  \"child3\" : child3\n",
        "}\n",
        "\n",
        "print (myfamily)"
      ],
      "metadata": {
        "id": "zbKniORsrZR0",
        "outputId": "c1525f16-8200-4577-9e29-2dfe3c718d14",
        "colab": {
          "base_uri": "https://localhost:8080/"
        }
      },
      "execution_count": 1,
      "outputs": [
        {
          "output_type": "stream",
          "name": "stdout",
          "text": [
            "{'child1': {'name': 'Emil', 'year': 2004}, 'child2': {'name': 'Tobias', 'year': 2007}, 'child3': {'name': 'Linus', 'year': 2011}}\n"
          ]
        }
      ]
    },
    {
      "cell_type": "code",
      "source": [
        "#Accessing Items in Nested Dictionaries\n",
        "\n",
        "#print(myfamily[\"child2\"])\n",
        "\n",
        "print(my_family[\"child2\"][\"name\"])\n",
        "\n"
      ],
      "metadata": {
        "id": "VPTi2XufxzMx",
        "outputId": "5dad8ece-098a-421b-ba51-2047ae507ac8",
        "colab": {
          "base_uri": "https://localhost:8080/",
          "height": 190
        }
      },
      "execution_count": 2,
      "outputs": [
        {
          "output_type": "error",
          "ename": "NameError",
          "evalue": "name 'my_family' is not defined",
          "traceback": [
            "\u001b[0;31m---------------------------------------------------------------------------\u001b[0m",
            "\u001b[0;31mNameError\u001b[0m                                 Traceback (most recent call last)",
            "\u001b[0;32m<ipython-input-2-6ff2801cf730>\u001b[0m in \u001b[0;36m<cell line: 5>\u001b[0;34m()\u001b[0m\n\u001b[1;32m      3\u001b[0m \u001b[0;31m#print(myfamily[\"child2\"])\u001b[0m\u001b[0;34m\u001b[0m\u001b[0;34m\u001b[0m\u001b[0m\n\u001b[1;32m      4\u001b[0m \u001b[0;34m\u001b[0m\u001b[0m\n\u001b[0;32m----> 5\u001b[0;31m \u001b[0mprint\u001b[0m\u001b[0;34m(\u001b[0m\u001b[0mmy_family\u001b[0m\u001b[0;34m[\u001b[0m\u001b[0;34m\"child2\"\u001b[0m\u001b[0;34m]\u001b[0m\u001b[0;34m[\u001b[0m\u001b[0;34m\"name\"\u001b[0m\u001b[0;34m]\u001b[0m\u001b[0;34m)\u001b[0m\u001b[0;34m\u001b[0m\u001b[0;34m\u001b[0m\u001b[0m\n\u001b[0m\u001b[1;32m      6\u001b[0m \u001b[0;34m\u001b[0m\u001b[0m\n",
            "\u001b[0;31mNameError\u001b[0m: name 'my_family' is not defined"
          ]
        }
      ]
    },
    {
      "cell_type": "code",
      "source": [
        "#Loop through Nested Dictionaries\n",
        "\n",
        "for x, obj in myfamily.items():\n",
        "  print(x)\n",
        "\n",
        "  for y in obj:\n",
        "    print(y + ':', obj[y])\n",
        "\n",
        "print(\"*************************\")\n",
        "\n",
        "for x, obj in my_family.items():\n",
        "  print(x)\n",
        "\n",
        "  for y in obj:\n",
        "    print(y + ':', obj[y])\n"
      ],
      "metadata": {
        "id": "AZrZ-W_xyfAd",
        "colab": {
          "base_uri": "https://localhost:8080/",
          "height": 377
        },
        "outputId": "69125192-63b7-4ee1-d9ed-1b3c765d6353"
      },
      "execution_count": 3,
      "outputs": [
        {
          "output_type": "stream",
          "name": "stdout",
          "text": [
            "child1\n",
            "name: Emil\n",
            "year: 2004\n",
            "child2\n",
            "name: Tobias\n",
            "year: 2007\n",
            "child3\n",
            "name: Linus\n",
            "year: 2011\n",
            "*************************\n"
          ]
        },
        {
          "output_type": "error",
          "ename": "NameError",
          "evalue": "name 'my_family' is not defined",
          "traceback": [
            "\u001b[0;31m---------------------------------------------------------------------------\u001b[0m",
            "\u001b[0;31mNameError\u001b[0m                                 Traceback (most recent call last)",
            "\u001b[0;32m<ipython-input-3-26752353b902>\u001b[0m in \u001b[0;36m<cell line: 11>\u001b[0;34m()\u001b[0m\n\u001b[1;32m      9\u001b[0m \u001b[0mprint\u001b[0m\u001b[0;34m(\u001b[0m\u001b[0;34m\"*************************\"\u001b[0m\u001b[0;34m)\u001b[0m\u001b[0;34m\u001b[0m\u001b[0;34m\u001b[0m\u001b[0m\n\u001b[1;32m     10\u001b[0m \u001b[0;34m\u001b[0m\u001b[0m\n\u001b[0;32m---> 11\u001b[0;31m \u001b[0;32mfor\u001b[0m \u001b[0mx\u001b[0m\u001b[0;34m,\u001b[0m \u001b[0mobj\u001b[0m \u001b[0;32min\u001b[0m \u001b[0mmy_family\u001b[0m\u001b[0;34m.\u001b[0m\u001b[0mitems\u001b[0m\u001b[0;34m(\u001b[0m\u001b[0;34m)\u001b[0m\u001b[0;34m:\u001b[0m\u001b[0;34m\u001b[0m\u001b[0;34m\u001b[0m\u001b[0m\n\u001b[0m\u001b[1;32m     12\u001b[0m   \u001b[0mprint\u001b[0m\u001b[0;34m(\u001b[0m\u001b[0mx\u001b[0m\u001b[0;34m)\u001b[0m\u001b[0;34m\u001b[0m\u001b[0;34m\u001b[0m\u001b[0m\n\u001b[1;32m     13\u001b[0m \u001b[0;34m\u001b[0m\u001b[0m\n",
            "\u001b[0;31mNameError\u001b[0m: name 'my_family' is not defined"
          ]
        }
      ]
    },
    {
      "cell_type": "code",
      "source": [
        "#Using Loop to access Dictionary #1\n",
        "d = {\"red\":1, \"blue\":2, \"yellow\":3}\n",
        "for color_key, value in d.items():\n",
        "  print (color_key, \"represents by value\", d[color_key])\n"
      ],
      "metadata": {
        "id": "Hirg1okXzoL_",
        "colab": {
          "base_uri": "https://localhost:8080/"
        },
        "outputId": "04b6ff2f-920f-417b-9587-e2e18a3373a3"
      },
      "execution_count": null,
      "outputs": [
        {
          "output_type": "stream",
          "name": "stdout",
          "text": [
            "red represents by value 1\n",
            "blue represents by value 2\n",
            "yellow represents by value 3\n"
          ]
        }
      ]
    },
    {
      "cell_type": "code",
      "source": [
        "#Using Loop to access Dictionary #2\n",
        "pakaian = {1:\"Baju Kurung\", 2:\"Baju Melayu\", 3:\"Kurta\", 4:\"Baju Kebaya\", 5:\"Saree\", 6: \"Cheongsam\"}\n",
        "for choice, value in pakaian.items():\n",
        "  print (choice, \"adalah pakaian\", pakaian[choice])"
      ],
      "metadata": {
        "id": "69F13msJ0bM1",
        "colab": {
          "base_uri": "https://localhost:8080/"
        },
        "outputId": "e68983a4-f70a-4fe4-eff0-18d285cde4a8"
      },
      "execution_count": null,
      "outputs": [
        {
          "output_type": "stream",
          "name": "stdout",
          "text": [
            "1 adalah pakaian Baju Kurung\n",
            "2 adalah pakaian Baju Melayu\n",
            "3 adalah pakaian Kurta\n",
            "4 adalah pakaian Baju Kebaya\n",
            "5 adalah pakaian Saree\n",
            "6 adalah pakaian Cheongsam\n"
          ]
        }
      ]
    },
    {
      "cell_type": "code",
      "source": [
        "#printing content of dictionary (recap of almost identical to lists)\n",
        "print (pakaian)"
      ],
      "metadata": {
        "colab": {
          "base_uri": "https://localhost:8080/"
        },
        "id": "Kfk1viOW1wLX",
        "outputId": "53c68c61-6b4f-4620-9f4f-97e43eef1c1b"
      },
      "execution_count": null,
      "outputs": [
        {
          "output_type": "stream",
          "name": "stdout",
          "text": [
            "{1: 'Baju Kurung', 2: 'Baju Melayu', 3: 'Kurta', 4: 'Baju Kebaya', 5: 'Saree', 6: 'Cheongsam'}\n"
          ]
        }
      ]
    },
    {
      "cell_type": "code",
      "source": [
        "#deleteng item using key from dictionary\n",
        "#del pakaian[1]\n",
        "print (pakaian)\n",
        "\n",
        "#del pakaian[5]\n",
        "#del pakaian[6]\n",
        "del pakaian[4]"
      ],
      "metadata": {
        "id": "p2_L0cWD11zk",
        "colab": {
          "base_uri": "https://localhost:8080/"
        },
        "outputId": "6b2326e0-e9a2-4d0d-cf72-3e1f4f801118"
      },
      "execution_count": null,
      "outputs": [
        {
          "output_type": "stream",
          "name": "stdout",
          "text": [
            "{2: 'Baju Melayu', 3: 'Kurta', 4: 'Baju Kebaya'}\n"
          ]
        }
      ]
    },
    {
      "cell_type": "code",
      "source": [
        "#deleting the whole dictionary\n",
        "#del pakaian\n",
        "print (pakaian)"
      ],
      "metadata": {
        "id": "1r4XkGmvRo1R",
        "colab": {
          "base_uri": "https://localhost:8080/",
          "height": 176
        },
        "outputId": "10b3bfc7-6004-4098-848c-bd77a204bdc6"
      },
      "execution_count": null,
      "outputs": [
        {
          "output_type": "error",
          "ename": "NameError",
          "evalue": "name 'pakaian' is not defined",
          "traceback": [
            "\u001b[0;31m---------------------------------------------------------------------------\u001b[0m",
            "\u001b[0;31mNameError\u001b[0m                                 Traceback (most recent call last)",
            "\u001b[0;32m<ipython-input-17-5a2a7e169946>\u001b[0m in \u001b[0;36m<cell line: 3>\u001b[0;34m()\u001b[0m\n\u001b[1;32m      1\u001b[0m \u001b[0;31m#deleting the whole dictionary\u001b[0m\u001b[0;34m\u001b[0m\u001b[0;34m\u001b[0m\u001b[0m\n\u001b[1;32m      2\u001b[0m \u001b[0;31m#del pakaian\u001b[0m\u001b[0;34m\u001b[0m\u001b[0;34m\u001b[0m\u001b[0m\n\u001b[0;32m----> 3\u001b[0;31m \u001b[0mprint\u001b[0m \u001b[0;34m(\u001b[0m\u001b[0mpakaian\u001b[0m\u001b[0;34m)\u001b[0m\u001b[0;34m\u001b[0m\u001b[0;34m\u001b[0m\u001b[0m\n\u001b[0m",
            "\u001b[0;31mNameError\u001b[0m: name 'pakaian' is not defined"
          ]
        }
      ]
    },
    {
      "cell_type": "code",
      "source": [
        "child3 = {\n",
        "  \"name\" : \"Emil\",\n",
        "  \"year\" : 2004\n",
        "}\n",
        "child2 = {\n",
        "  \"name\" : \"Tobias\",\n",
        "  \"year\" : 2007\n",
        "}\n",
        "child1 = {\n",
        "  \"name\" : \"Linus\",\n",
        "  \"year\" : 2011\n",
        "}\n",
        "child5 = {\n",
        "  \"name\" : \"Danny\",\n",
        "  \"year\" : 2013\n",
        "}\n",
        "child4 = {\n",
        "  \"name\" : \"Linus\",\n",
        "  \"year\" : 2014\n",
        "}\n",
        "\n",
        "myfamily = {\n",
        "  \"child3\" : child3,\n",
        "  \"child2\" : child2,\n",
        "  \"child1\" : child1,\n",
        "  \"child5\" : child5,\n",
        "  \"child4\" : child4\n",
        "}\n",
        "\n",
        "print (myfamily)\n",
        "print (\"\\n\")\n",
        "print (\"\\n\")\n",
        "print(\"_________________________________________________________\")\n",
        "print (\"\\n\")\n",
        "print (\"\\n\")\n",
        "print(sorted(myfamily))"
      ],
      "metadata": {
        "colab": {
          "base_uri": "https://localhost:8080/"
        },
        "id": "UkBTmJh2jjNa",
        "outputId": "ffc841a6-e699-4287-e2ed-80eb4e5c2ee0"
      },
      "execution_count": null,
      "outputs": [
        {
          "output_type": "stream",
          "name": "stdout",
          "text": [
            "{'child3': {'name': 'Emil', 'year': 2004}, 'child2': {'name': 'Tobias', 'year': 2007}, 'child1': {'name': 'Linus', 'year': 2011}, 'child5': {'name': 'Danny', 'year': 2013}, 'child4': {'name': 'Linus', 'year': 2014}}\n",
            "\n",
            "\n",
            "\n",
            "\n",
            "_________________________________________________________\n",
            "\n",
            "\n",
            "\n",
            "\n",
            "['child1', 'child2', 'child3', 'child4', 'child5']\n"
          ]
        }
      ]
    },
    {
      "cell_type": "code",
      "source": [
        "#another example from previous one with modified code; we try to sort the entry based on key 'child#'\n",
        "\n",
        "child3 = {\n",
        "  \"name\" : \"Emil\",\n",
        "  \"year\" : 2004\n",
        "}\n",
        "child2 = {\n",
        "  \"name\" : \"Tobias\",\n",
        "  \"year\" : 2007\n",
        "}\n",
        "child1 = {\n",
        "  \"name\" : \"Linus\",\n",
        "  \"year\" : 2011\n",
        "}\n",
        "child5 = {\n",
        "  \"name\" : \"Danny\",\n",
        "  \"year\" : 2013\n",
        "}\n",
        "child4 = {\n",
        "  \"name\" : \"Linus\",\n",
        "  \"year\" : 2014\n",
        "}\n",
        "\n",
        "myfamily = {\n",
        "  \"child3\" : child3,\n",
        "  \"child2\" : child2,\n",
        "  \"child1\" : child1,\n",
        "  \"child5\" : child5,\n",
        "  \"child4\" : child4\n",
        "}\n",
        "\n",
        "print (myfamily)\n",
        "\n",
        "print (\"******************************\")\n",
        "\n",
        "for x in sorted(myfamily):\n",
        "  print ( x, myfamily[x] )\n",
        "\n",
        "print(myfamily)"
      ],
      "metadata": {
        "id": "2waVLIHqSoKZ",
        "colab": {
          "base_uri": "https://localhost:8080/"
        },
        "outputId": "9c33e743-2366-4431-b8e8-4f40519be40f"
      },
      "execution_count": null,
      "outputs": [
        {
          "output_type": "stream",
          "name": "stdout",
          "text": [
            "{'child3': {'name': 'Emil', 'year': 2004}, 'child2': {'name': 'Tobias', 'year': 2007}, 'child1': {'name': 'Linus', 'year': 2011}, 'child5': {'name': 'Danny', 'year': 2013}, 'child4': {'name': 'Linus', 'year': 2014}}\n",
            "******************************\n",
            "child1 {'name': 'Linus', 'year': 2011}\n",
            "child2 {'name': 'Tobias', 'year': 2007}\n",
            "child3 {'name': 'Emil', 'year': 2004}\n",
            "child4 {'name': 'Linus', 'year': 2014}\n",
            "child5 {'name': 'Danny', 'year': 2013}\n",
            "{'child3': {'name': 'Emil', 'year': 2004}, 'child2': {'name': 'Tobias', 'year': 2007}, 'child1': {'name': 'Linus', 'year': 2011}, 'child5': {'name': 'Danny', 'year': 2013}, 'child4': {'name': 'Linus', 'year': 2014}}\n"
          ]
        }
      ]
    },
    {
      "cell_type": "code",
      "source": [
        "#Using max() method that will return the key that has max value\n",
        "\n",
        "inputofnumber = {'1':300, '2':434, '3':456, '4':777, '5':311, '6':290, '7':891 }\n",
        "\n",
        "print (inputofnumber)"
      ],
      "metadata": {
        "colab": {
          "base_uri": "https://localhost:8080/"
        },
        "id": "HShAP2KPcqqI",
        "outputId": "55547bcb-e39d-48a2-a196-1bddd6696e0c"
      },
      "execution_count": null,
      "outputs": [
        {
          "output_type": "stream",
          "name": "stdout",
          "text": [
            "{'1': 300, '2': 434, '3': 456, '4': 777, '5': 311, '6': 290, '7': 891}\n"
          ]
        }
      ]
    },
    {
      "cell_type": "code",
      "source": [
        "inputofnumber = {'1':300, '2':434, '3':456, '4':777, '5':311, '6':290, '7':891 }\n",
        "max(inputofnumber, key=lambda i: inputofnumber[i])"
      ],
      "metadata": {
        "id": "HiJmTWFCf-qv",
        "colab": {
          "base_uri": "https://localhost:8080/",
          "height": 35
        },
        "outputId": "a0dd241f-0d8d-47af-8d4b-aa75c01698a2"
      },
      "execution_count": null,
      "outputs": [
        {
          "output_type": "execute_result",
          "data": {
            "text/plain": [
              "'7'"
            ],
            "application/vnd.google.colaboratory.intrinsic+json": {
              "type": "string"
            }
          },
          "metadata": {},
          "execution_count": 25
        }
      ]
    },
    {
      "cell_type": "code",
      "source": [
        "my_dict = {'key1': 10, 'key2': 20, 'key3': 30}\n",
        "\n",
        "max_key = max(my_dict, key=my_dict.get)\n",
        "print(\"Key with the maximum value:\", max_key)"
      ],
      "metadata": {
        "colab": {
          "base_uri": "https://localhost:8080/"
        },
        "id": "3NXjFhqchx44",
        "outputId": "f936b6ec-d997-467f-c5a7-3a3f21eb074c"
      },
      "execution_count": null,
      "outputs": [
        {
          "output_type": "stream",
          "name": "stdout",
          "text": [
            "Key with the maximum value: key3\n"
          ]
        }
      ]
    },
    {
      "cell_type": "code",
      "source": [
        "dict1 = {'name': 'Alice', 'age': 30, 'city': 'New York'}\n",
        "dict2 = {'name': 'Bob', 'age': 25, 'city': 'Los Angeles'}\n",
        "dict3 = {'name': 'Charlie', 'age': 35, 'city': 'Chicago'}\n",
        "\n",
        "dic4 = {}\n",
        "\n",
        "for d in (dict1, dict2, dict3):\n",
        "  dic4.update(d)\n",
        "print (dic4)\n"
      ],
      "metadata": {
        "colab": {
          "base_uri": "https://localhost:8080/"
        },
        "id": "8OElxFfBj-S_",
        "outputId": "f1fcb43b-986a-4685-928b-0c8d009fe13e"
      },
      "execution_count": null,
      "outputs": [
        {
          "output_type": "stream",
          "name": "stdout",
          "text": [
            "{'name': 'Charlie', 'age': 35, 'city': 'Chicago'}\n"
          ]
        }
      ]
    },
    {
      "cell_type": "code",
      "source": [
        "dict1 = {1: 30, 2: 25}\n",
        "dict2 = {3: 30, 4: 25}\n",
        "dict3 = {5: 30, 6: 25}\n",
        "\n",
        "# Concatenating the dictionaries\n",
        "#concatenated_dict = {}\n",
        "#concatenated_dict.update(table1)\n",
        "#concatenated_dict.update(table2)\n",
        "#concatenated_dict.update(table3)\n",
        "\n",
        "# Printing the concatenated dictionary\n",
        "#print(\"Concatenated dictionary:\", concatenated_dict)\n",
        "\n",
        "\n",
        "dict4={}\n",
        "for d in (dict1, dict2, dict3):\n",
        "  dict4.update(d)\n",
        "print (dict4)\n",
        "\n",
        "\n",
        "\n",
        "\n"
      ],
      "metadata": {
        "colab": {
          "base_uri": "https://localhost:8080/"
        },
        "id": "-yUfa-z9lI9v",
        "outputId": "fc5aa57b-9d5b-406a-81f0-a6740c194230"
      },
      "execution_count": null,
      "outputs": [
        {
          "output_type": "stream",
          "name": "stdout",
          "text": [
            "{1: 30, 2: 25, 3: 30, 4: 25, 5: 30, 6: 25}\n"
          ]
        }
      ]
    },
    {
      "cell_type": "code",
      "source": [
        "#compare the two snippets output: SNIPPET #1\n",
        "\n",
        "dict1 = {'name': 'Alice', 'age': 30, 'city': 'New York'}\n",
        "dict2 = {'name': 'Bob', 'age': 25, 'city': 'Los Angeles'}\n",
        "dict3 = {'name': 'Charlie', 'age': 35, 'city': 'Chicago'}\n",
        "\n",
        "dic4 = {}\n",
        "\n",
        "for d in (dict1, dict2, dict3):\n",
        "  dic4.update(d)\n",
        "print (dic4)\n",
        "\n",
        "\n",
        "\n",
        "\n"
      ],
      "metadata": {
        "colab": {
          "base_uri": "https://localhost:8080/"
        },
        "id": "sndXzE6knLSu",
        "outputId": "143ac52f-1eac-48ce-85ce-78a6e9a7a8e2"
      },
      "execution_count": null,
      "outputs": [
        {
          "output_type": "stream",
          "name": "stdout",
          "text": [
            "{'name': 'Charlie', 'age': 35, 'city': 'Chicago'}\n"
          ]
        }
      ]
    },
    {
      "cell_type": "code",
      "source": [
        "#compare the two snippets output: SNIPPET #2\n",
        "table1 = {1: 30, 2: 25}\n",
        "table2 = {3: 30, 4: 25}\n",
        "table3 = {5: 30, 6: 25}\n",
        "\n",
        "table4 = {}\n",
        "\n",
        "for d in (table1, table2, table3):\n",
        "    table4.update(d)\n",
        "\n",
        "print(\"Concatenated dictionary:\", table4)\n",
        "\n",
        "\n",
        "\n",
        "\n",
        "\n",
        "\n",
        "\n",
        "\n",
        "\n",
        "\n",
        "\n",
        "\n",
        "\n",
        "\n",
        "\n"
      ],
      "metadata": {
        "colab": {
          "base_uri": "https://localhost:8080/"
        },
        "id": "Rt8eDW6blcbv",
        "outputId": "404b361e-1ec5-44c9-add1-48ab523cbdaa"
      },
      "execution_count": null,
      "outputs": [
        {
          "output_type": "stream",
          "name": "stdout",
          "text": [
            "Concatenated dictionary: {1: 30, 2: 25, 3: 30, 4: 25, 5: 30, 6: 25}\n"
          ]
        }
      ]
    },
    {
      "cell_type": "code",
      "source": [
        "#Solution for SNIPPET #1 to produce same output as SNIPPET #2:\n",
        "#Change the key into unique keys\n",
        "\n",
        "dict1 = {'name1': 'Alice', 'age1': 30, 'city1': 'New York'}\n",
        "dict2 = {'name2': 'Bob', 'age2': 25, 'city2': 'Los Angeles'}\n",
        "dict3 = {'name3': 'Charlie', 'age3': 35, 'city3': 'Chicago'}\n",
        "\n",
        "dic4 = {}\n",
        "\n",
        "for d in (dict1, dict2, dict3):\n",
        "  dic4.update(d)\n",
        "print (dic4)"
      ],
      "metadata": {
        "colab": {
          "base_uri": "https://localhost:8080/"
        },
        "id": "M978NUOtyXnp",
        "outputId": "fbf08aa9-64ae-4b08-845a-85baa43e6711"
      },
      "execution_count": null,
      "outputs": [
        {
          "output_type": "stream",
          "name": "stdout",
          "text": [
            "{'name1': 'Alice', 'age1': 30, 'city1': 'New York', 'name2': 'Bob', 'age2': 25, 'city2': 'Los Angeles', 'name3': 'Charlie', 'age3': 35, 'city3': 'Chicago'}\n"
          ]
        }
      ]
    },
    {
      "cell_type": "code",
      "source": [
        "#searching the dictionary for item\n",
        "dic1 = {}\n",
        "dic1[\"apple\"] = 10\n",
        "dic1[\"banana\"] = 30\n",
        "dic1[\"pineapple\"] = 14\n",
        "\n",
        "print (dic1)\n",
        "print(\"**************************************************************************************\")\n",
        "print (\"now to test whether the items in dictionay contains search item, ie: \\\"apple\\\" or not:\")\n",
        "search = input(\"type in the fruit you want to search: \")\n",
        "if search in dic1:\n",
        "  print (\"dic1 has\", search, \"with\", dic1[search], \"piece(s)\")\n",
        "else:\n",
        "  print (\"dic1 does not have\", search)"
      ],
      "metadata": {
        "colab": {
          "base_uri": "https://localhost:8080/"
        },
        "id": "J1SN_A9HoEH1",
        "outputId": "1d063f23-830c-4253-af22-2326e208f491"
      },
      "execution_count": null,
      "outputs": [
        {
          "output_type": "stream",
          "name": "stdout",
          "text": [
            "{'apple': 10, 'banana': 30, 'pineapple': 14}\n",
            "**************************************************************************************\n",
            "now to test whether the items in dictionay contains search item, ie: \"apple\" or not:\n",
            "type in the fruit you want to search: pineapple\n",
            "dic1 has pineapple with 14 piece(s)\n"
          ]
        }
      ]
    },
    {
      "cell_type": "code",
      "source": [
        "#cari saiz dictionary\n",
        "\n",
        "print (\"saiz dic1 adalah\", len(dic1))\n",
        "\n",
        "\n"
      ],
      "metadata": {
        "id": "sXJ6wLy2rs5D",
        "colab": {
          "base_uri": "https://localhost:8080/"
        },
        "outputId": "9e2d3ace-ca6f-4298-a5f4-1931722af425"
      },
      "execution_count": null,
      "outputs": [
        {
          "output_type": "stream",
          "name": "stdout",
          "text": [
            "saiz dic1 adalah 3\n"
          ]
        }
      ]
    },
    {
      "cell_type": "code",
      "source": [
        "#Exercise Loop\n",
        "\n",
        "proton = {1:\"Proton Wira\", 2:\"Proton Iswara\", 3:\"Proton Persona\", 4:\"Proton Juara\"}\n",
        "\n",
        "for x in proton:\n",
        "  print(x,proton[x])\n",
        "\n",
        "\n"
      ],
      "metadata": {
        "id": "yxo85kXTSvBP",
        "colab": {
          "base_uri": "https://localhost:8080/"
        },
        "outputId": "3b52b5a1-fcf9-4879-a704-e10bdcde1c62"
      },
      "execution_count": null,
      "outputs": [
        {
          "output_type": "stream",
          "name": "stdout",
          "text": [
            "1 Proton Wira\n",
            "2 Proton Iswara\n",
            "3 Proton Persona\n",
            "4 Proton Juara\n"
          ]
        }
      ]
    },
    {
      "cell_type": "code",
      "source": [
        "#Exercise Sum\n",
        "\n",
        "inputuser = input(\"Masukkan bilangan item untuk dictionary: \")\n",
        "dic3 ={}\n",
        "for x in range(1,int(inputuser)+1):\n",
        "  #dic3[x]=x*x\n",
        "  dic3[x]=int(input(\"masukkan nombor integer:\"))\n",
        "print(dic3)\n",
        "sum = 0\n",
        "for x in dic3:\n",
        "  sum = sum + dic3[x]\n",
        "print (\"Jumlah kesemua nilai dalam dictionary adalah: \",sum)"
      ],
      "metadata": {
        "id": "pAJCivmcsOcc",
        "colab": {
          "base_uri": "https://localhost:8080/"
        },
        "outputId": "fd935c10-c9f9-4625-f94d-a60a94cf952f"
      },
      "execution_count": null,
      "outputs": [
        {
          "output_type": "stream",
          "name": "stdout",
          "text": [
            "Masukkan bilangan item untuk dictionary: 3\n",
            "masukkan nombor integer:2\n",
            "masukkan nombor integer:3\n",
            "masukkan nombor integer:4\n",
            "{1: 2, 2: 3, 3: 4}\n",
            "Jumlah kesemua nilai dalam dictionary adalah:  9\n"
          ]
        }
      ]
    },
    {
      "cell_type": "code",
      "source": [
        "#Exercise Square\n",
        "\n",
        "inputuser = input(\"Masukkan bilangan item untuk dictionary: \")\n",
        "dic2 ={}\n",
        "for x in range(1,int(inputuser)+1):\n",
        "  dic2[x]=x*x\n",
        "print(dic2)\n",
        "\n",
        "\n",
        "#Kita dah tamat utk part Dictionay. Next video: Numpy dan Dataframe..."
      ],
      "metadata": {
        "id": "CuS3LzJjsQxg",
        "outputId": "8338aa2d-e5c5-467e-a1f0-c91f7450ef88",
        "colab": {
          "base_uri": "https://localhost:8080/"
        }
      },
      "execution_count": 4,
      "outputs": [
        {
          "output_type": "stream",
          "name": "stdout",
          "text": [
            "Masukkan bilangan item untuk dictionary: 2\n",
            "{1: 1, 2: 4}\n"
          ]
        }
      ]
    }
  ]
}