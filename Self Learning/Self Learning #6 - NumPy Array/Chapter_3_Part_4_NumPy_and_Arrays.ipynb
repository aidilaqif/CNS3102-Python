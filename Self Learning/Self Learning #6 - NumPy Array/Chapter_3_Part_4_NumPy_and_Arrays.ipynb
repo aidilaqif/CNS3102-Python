{
  "nbformat": 4,
  "nbformat_minor": 0,
  "metadata": {
    "colab": {
      "provenance": []
    },
    "kernelspec": {
      "name": "python3",
      "display_name": "Python 3"
    },
    "language_info": {
      "name": "python"
    }
  },
  "cells": [
    {
      "cell_type": "code",
      "execution_count": null,
      "metadata": {
        "id": "TkM_3bWYKJ13",
        "colab": {
          "base_uri": "https://localhost:8080/"
        },
        "outputId": "5988a292-4669-4c3f-bc04-1095e498b0d9"
      },
      "outputs": [
        {
          "output_type": "stream",
          "name": "stdout",
          "text": [
            "[1, 2, 3, 4, 5]\n",
            "1\n",
            "[1, 10, 3, 4, 5]\n",
            "[1, 10, 3, 4, 5, 6]\n",
            "[1, 10, 4, 5, 6]\n"
          ]
        }
      ],
      "source": [
        "# Example of List (recap)\n",
        "# Defining a list (array) in Python\n",
        "my_list = [1, 2, 3, 4, 5]\n",
        "print(my_list)\n",
        "\n",
        "# Accessing elements\n",
        "print(my_list[0])  # Output: 1\n",
        "\n",
        "# Modifying elements\n",
        "my_list[1] = 10\n",
        "print(my_list)\n",
        "\n",
        "# Adding elements\n",
        "my_list.append(6)\n",
        "print(my_list)\n",
        "\n",
        "# Removing elements\n",
        "my_list.remove(3)\n",
        "print(my_list)\n"
      ]
    },
    {
      "cell_type": "code",
      "source": [
        "# Breakdown of the Array Syntax\n",
        "import array as waklu\n",
        "import numpy as fsktm\n",
        "my_array1 = waklu.array('i', [1, 2, 3, 4, 5])\n",
        "print (my_array1)\n",
        "\n",
        "\n",
        "my_array2 = fsktm.array([[1, 2, 3, 4],[5,6,7,8]])\n",
        "print (my_array2)\n",
        "print (my_array2.ndim)\n",
        "\n",
        "# Importing the array Module:\n",
        "# Before using the array module, you need to import it. This is typically done at the top of your Python script:\n",
        "# Creating the Array:\n",
        "# The array.array constructor is used to create an array. It takes two main arguments:\n",
        "\n",
        "# Type Code ('i'):\n",
        "#The first argument is a type code, which specifies the type of elements the array will hold. In this case, 'i' stands for signed integer. Here are some common type codes:\n",
        "\n",
        "# 'i': signed integer\n",
        "# 'f': floating-point\n",
        "# 'd': double-precision floating-point\n",
        "# 'b': signed byte\n",
        "# 'B': unsigned byte\n",
        "# 'h': signed short integer\n",
        "# 'H': unsigned short integer\n",
        "# 'l': signed long integer\n",
        "# 'L': unsigned long integer\n",
        "\n",
        "# Initial Values ([1, 2, 3, 4, 5]):\n",
        "# The second argument is a list of initial values to populate the array. In this example, the array is initialized with the integers 1, 2, 3, 4, and 5\n",
        "\n"
      ],
      "metadata": {
        "id": "WefGX47nM_qI",
        "colab": {
          "base_uri": "https://localhost:8080/"
        },
        "outputId": "4d2e5815-a7c1-4b15-8034-7ad556df4003"
      },
      "execution_count": null,
      "outputs": [
        {
          "output_type": "stream",
          "name": "stdout",
          "text": [
            "array('i', [1, 2, 3, 4, 5])\n",
            "[[1 2 3 4]\n",
            " [5 6 7 8]]\n",
            "2\n"
          ]
        }
      ]
    },
    {
      "cell_type": "code",
      "source": [
        "# The array module provides an array data structure that is more space-efficient than lists, but it only supports arrays of basic types.\n",
        "\n",
        "import array\n",
        "\n",
        "# Defining an integer array\n",
        "my_array = array.array('i', [1, 2, 3, 4, 5])\n",
        "print(my_array)\n",
        "\n",
        "# Accessing elements\n",
        "print(my_array[0])  # Output: 1\n",
        "\n",
        "# Modifying elements\n",
        "my_array[1] = 10\n",
        "print(my_array)\n",
        "\n",
        "# Adding elements\n",
        "my_array.append(6)\n",
        "print(my_array)\n",
        "\n",
        "# Removing elements\n",
        "my_array.remove(3)\n",
        "print(my_array)"
      ],
      "metadata": {
        "id": "YFyU3mvZLaiI",
        "outputId": "0775dae7-5249-4de7-9d13-e1050cfe3671",
        "colab": {
          "base_uri": "https://localhost:8080/"
        }
      },
      "execution_count": 1,
      "outputs": [
        {
          "output_type": "stream",
          "name": "stdout",
          "text": [
            "array('i', [1, 2, 3, 4, 5])\n",
            "1\n",
            "array('i', [1, 10, 3, 4, 5])\n",
            "array('i', [1, 10, 3, 4, 5, 6])\n",
            "array('i', [1, 10, 4, 5, 6])\n"
          ]
        }
      ]
    },
    {
      "cell_type": "code",
      "source": [
        "# For numerical computations, the NumPy library provides powerful array objects with many useful functions for mathematical operations.\n",
        "\n",
        "import numpy as np\n",
        "\n",
        "# Defining a NumPy array\n",
        "my_numpy_array = np.array([1, 2, 3, 4, 5])\n",
        "print(my_numpy_array)\n",
        "\n",
        "# Accessing elements\n",
        "print(my_numpy_array[0])  # Output: 1\n",
        "\n",
        "# Modifying elements\n",
        "my_numpy_array[1] = 10\n",
        "print(my_numpy_array)\n",
        "\n",
        "# Adding elements\n",
        "my_numpy_array = np.append(my_numpy_array, 6)\n",
        "print(my_numpy_array)\n",
        "\n",
        "# Removing elements\n",
        "my_numpy_array = np.delete(my_numpy_array, 2)  # Removes element at index 2\n",
        "print(my_numpy_array)\n",
        "\n",
        "# Summary\n",
        "# Lists are flexible and can hold elements of different types.\n",
        "# The array module provides efficient arrays for basic data types.\n",
        "# NumPy arrays are ideal for numerical and scientific computations.\n",
        "# Each method has its advantages, and the choice depends on the specific use case and requirements of your program."
      ],
      "metadata": {
        "id": "yxx-w0kRL4cD",
        "colab": {
          "base_uri": "https://localhost:8080/"
        },
        "outputId": "a5bc4ca7-96a1-44f5-b03e-fa4c31299ab1"
      },
      "execution_count": null,
      "outputs": [
        {
          "output_type": "stream",
          "name": "stdout",
          "text": [
            "[1 2 3 4 5]\n",
            "1\n",
            "[ 1 10  3  4  5]\n",
            "[ 1 10  3  4  5  6]\n",
            "[ 1 10  4  5  6]\n"
          ]
        }
      ]
    },
    {
      "cell_type": "code",
      "source": [
        "# what is the difference between NumPy arrays and Python arrays?\n",
        "# NumPy arrays and Python arrays (typically referring to lists or arrays from the array module) are both used to store collections of elements, but they have different features, use cases, and performance characteristics. Here are the key differences:\n",
        "\n",
        "# 1. Type and Functionality\n",
        "# Python Lists\n",
        "# Flexibility: Python lists can store elements of different types (e.g., integers, floats, strings, objects).\n",
        "# Functionality: Lists support a wide range of operations including append, extend, insert, remove, and many more.\n",
        "# Dynamic: Lists are dynamically sized, meaning you can add or remove elements easily.\n",
        "\n",
        "# Python Arrays (array Module)\n",
        "# Type Restriction: Arrays from the array module are more memory-efficient than lists because they store elements of a single type.\n",
        "# Limited Functionality: They support fewer operations compared to lists and are intended for numerical data.\n",
        "\n",
        "# NumPy Arrays\n",
        "# Type Restriction: NumPy arrays (ndarrays) are homogenous, meaning all elements must be of the same type, which can be more efficient in terms of memory and performance.\n",
        "# Advanced Functionality: NumPy provides a vast range of mathematical, statistical, and linear algebra operations that are not available with Python lists or the array module.\n",
        "# Multidimensional: NumPy arrays can be multidimensional (e.g., 2D matrices, 3D tensors), whereas Python lists and array module arrays are typically one-dimensional or require nested lists for multidimensional structures.\n",
        "\n",
        "# 2. Performance\n",
        "# Python Lists\n",
        "# Performance: Lists are slower for numerical computations because they are designed for flexibility rather than speed.\n",
        "# Overhead: They have a significant overhead due to their dynamic nature and ability to store elements of different types.\n",
        "\n",
        "# Python Arrays (array Module)\n",
        "# Performance: Arrays are more efficient than lists for large collections of homogeneous data but still lack the advanced performance optimizations of NumPy.\n",
        "\n",
        "# NumPy Arrays\n",
        "# Performance: NumPy arrays are highly optimized for numerical computations and can be significantly faster than lists or arrays from the array module, especially for large datasets.\n",
        "# Vectorization: NumPy operations are often vectorized, allowing batch operations on data without explicit loops, which greatly enhances performance.\n",
        "\n",
        "# 3. Memory Usage\n",
        "# Python Lists\n",
        "# Memory Usage: Lists have more memory overhead due to their ability to store elements of different types and their dynamic nature.\n",
        "\n",
        "# Python Arrays (array Module)\n",
        "# Memory Usage: Arrays use less memory than lists because they store elements of a single type, but still more than NumPy for complex operations.\n",
        "\n",
        "# NumPy Arrays\n",
        "# Memory Usage: NumPy arrays are designed to be memory efficient, especially for large numerical datasets. They use contiguous blocks of memory, which enhances performance for numerical operations.\n",
        "\n",
        "# 4. Ecosystem and Use Cases\n",
        "# Python Lists\n",
        "# Ecosystem: Lists are part of the core Python language and are used in a wide range of applications beyond numerical computing.\n",
        "# Use Cases: General-purpose data structures suitable for most applications where performance is not critical.\n",
        "\n",
        "# Python Arrays (array Module)\n",
        "# Ecosystem: Part of the standard library, but not as widely used as lists.\n",
        "# Use Cases: Suitable for simple numerical data where memory efficiency is important.\n",
        "\n",
        "# NumPy Arrays\n",
        "# Ecosystem: NumPy is a foundational library for numerical computing in Python and is widely used in scientific computing, data analysis, machine learning, and engineering.\n",
        "# Use Cases: Ideal for applications requiring fast numerical computations, linear algebra, Fourier transforms, and operations on large multidimensional arrays.\n",
        "\n",
        "# Example Comparison:\n",
        "\n",
        "# List:\n",
        "my_list = [1, 2, 3, 4, 5]\n",
        "print(my_list[0])  # Accessing an element\n",
        "my_list.append(6)  # Adding an element\n",
        "\n",
        "# Array\n",
        "import array\n",
        "my_array = array.array('i', [1, 2, 3, 4, 5])\n",
        "print(my_array[0])  # Accessing an element\n",
        "my_array.append(6)  # Adding an element\n",
        "\n",
        "# NumPy Array\n",
        "import numpy as np\n",
        "my_numpy_array = np.array([1, 2, 3, 4, 5])\n",
        "print(my_numpy_array[0])  # Accessing an element\n",
        "my_numpy_array = np.append(my_numpy_array, 6)  # Adding an element\n"
      ],
      "metadata": {
        "id": "2JM18mzpNzV-",
        "outputId": "8505b9de-ee9c-48ec-fb5e-371e5ad9b9de",
        "colab": {
          "base_uri": "https://localhost:8080/"
        }
      },
      "execution_count": 2,
      "outputs": [
        {
          "output_type": "stream",
          "name": "stdout",
          "text": [
            "1\n",
            "1\n",
            "1\n"
          ]
        }
      ]
    },
    {
      "cell_type": "code",
      "source": [
        "# Codes are from NumPy Chapter\n",
        "import numpy as np\n",
        "a1 = np.array(2)\n",
        "a = np.array([1, 2, 3])\n",
        "b = np.array([[1, 2],[3, 4]])\n",
        "c = np.array([[1, 2],[3, 4],[5,6]])\n",
        "d = np.array([[1, 2, 3 ],[4, 5, 6],[7, 8, 9]])\n",
        "\n",
        "print(a1)\n",
        "print(a)\n",
        "print(\"array a is a \",a.ndim, \" dimension\") #check the dimension\n",
        "print(b)\n",
        "print(\"array b is a \",b.ndim, \" dimension\") #check the dimension\n",
        "\n",
        "print(c)\n",
        "print(d)\n",
        "print(\"-----------------\")\n",
        "print(\"Now for 3D array\")\n",
        "e = np.array([\n",
        "    [[1, 2, 3], [4, 5, 6], [7, 8, 9]],   # First 2D array\n",
        "    [[10, 11, 12], [13, 14, 15], [16, 17, 18]],   # Second 2D array\n",
        "    [[19, 20, 21], [22, 23, 24], [25, 26, 27]]    # Third 2D array\n",
        "])\n",
        "\n",
        "print(e)\n",
        "print(\"array e is a \",e.ndim, \" dimension\") #check the dimension\n",
        "\n",
        "# Accessing an element\n",
        "print(e[0][1][2])  # Output: 6 (first 2D array, second list, third element)\n",
        "\n",
        "# Modifying an element\n",
        "e[1][2][0] = 99\n",
        "print(e[1][2][0]) # Output: 99 (updated element)\n",
        "print(e[1][2][1]) # Output: 17"
      ],
      "metadata": {
        "id": "HIDc73KSQyER",
        "colab": {
          "base_uri": "https://localhost:8080/"
        },
        "outputId": "e2a94fc3-bbed-48a5-9cf3-570348fb7b3e"
      },
      "execution_count": null,
      "outputs": [
        {
          "output_type": "stream",
          "name": "stdout",
          "text": [
            "2\n",
            "[1 2 3]\n",
            "array a is a  1  dimension\n",
            "[[1 2]\n",
            " [3 4]]\n",
            "array b is a  2  dimension\n",
            "[[1 2]\n",
            " [3 4]\n",
            " [5 6]]\n",
            "[[1 2 3]\n",
            " [4 5 6]\n",
            " [7 8 9]]\n",
            "-----------------\n",
            "Now for 3D array\n",
            "[[[ 1  2  3]\n",
            "  [ 4  5  6]\n",
            "  [ 7  8  9]]\n",
            "\n",
            " [[10 11 12]\n",
            "  [13 14 15]\n",
            "  [16 17 18]]\n",
            "\n",
            " [[19 20 21]\n",
            "  [22 23 24]\n",
            "  [25 26 27]]]\n",
            "array e is a  3  dimension\n",
            "6\n",
            "99\n",
            "17\n"
          ]
        }
      ]
    },
    {
      "cell_type": "code",
      "source": [
        "# Element-wise Operation\n",
        "a = np.array([1, 2, 3])\n",
        "print(a + 2)  # [3, 4, 5]\n",
        "print(a * 2)  # [2, 4, 6]\n",
        "\n",
        "# Take note that the elements in a is still the same\n",
        "print (\"-------------------\")\n",
        "print (a)"
      ],
      "metadata": {
        "id": "BstpHE-ASFu-",
        "colab": {
          "base_uri": "https://localhost:8080/"
        },
        "outputId": "c1c78db2-54e1-4e01-df74-7e607f8f89da"
      },
      "execution_count": null,
      "outputs": [
        {
          "output_type": "stream",
          "name": "stdout",
          "text": [
            "[3 4 5]\n",
            "[2 4 6]\n",
            "-------------------\n",
            "[1 2 3]\n"
          ]
        }
      ]
    },
    {
      "cell_type": "code",
      "source": [
        "# Matrix Multiplication\n",
        "b = np.array([[1, 2], [3, 4]])\n",
        "c = np.array([[5, 6], [7, 8]])\n",
        "print(np.dot(b, c))\n"
      ],
      "metadata": {
        "id": "tMPJK27iW5VU",
        "colab": {
          "base_uri": "https://localhost:8080/"
        },
        "outputId": "1e2f642a-33e5-4f9b-a63b-5be7b6dd4d05"
      },
      "execution_count": null,
      "outputs": [
        {
          "output_type": "stream",
          "name": "stdout",
          "text": [
            "[[19 22]\n",
            " [43 50]]\n"
          ]
        }
      ]
    },
    {
      "cell_type": "code",
      "source": [
        "# NumPy Indexing Access\n",
        "\n",
        "a = np.array([1, 2, 3])\n",
        "print(a[0])  # 1\n"
      ],
      "metadata": {
        "id": "CeGumVGGXn_B"
      },
      "execution_count": null,
      "outputs": []
    },
    {
      "cell_type": "code",
      "source": [
        "# NumPy Slicing\n",
        "b = np.array([[1, 2, 3], [4, 5, 6]])\n",
        "print(b[:, 1])  # [2, 5]\n",
        "\n",
        "print(b[:,0])   # [1, 4]\n",
        "\n",
        "print(b[0:,])   # [4, 5, 6]"
      ],
      "metadata": {
        "id": "2kFeK4aNXytv",
        "colab": {
          "base_uri": "https://localhost:8080/"
        },
        "outputId": "8bbcb8f1-0508-4c28-dec0-afd0873674e7"
      },
      "execution_count": null,
      "outputs": [
        {
          "output_type": "stream",
          "name": "stdout",
          "text": [
            "[2 5]\n",
            "[1 4]\n",
            "[[1 2 3]\n",
            " [4 5 6]]\n"
          ]
        }
      ]
    },
    {
      "cell_type": "code",
      "source": [
        "# Example of NumPy Functions\n",
        "# np.zeros(), np.ones(), np.full(), np.eye()\n",
        "a = np.array([1, 2, 3, 4])\n",
        "print(a.sum())  # 10\n",
        "print(a.mean())  # 2.5\n",
        "\n",
        "# Try to find the way the above methods are used (other than sum() and mean() methods)\n"
      ],
      "metadata": {
        "id": "vCfFYcJSYoKm",
        "outputId": "42dc92eb-1e3f-4082-c661-a43422ed5665",
        "colab": {
          "base_uri": "https://localhost:8080/"
        }
      },
      "execution_count": 3,
      "outputs": [
        {
          "output_type": "stream",
          "name": "stdout",
          "text": [
            "10\n",
            "2.5\n"
          ]
        }
      ]
    },
    {
      "cell_type": "code",
      "source": [
        "# Example of NumPy Functions\n",
        "#\tGenerate random numbers:\n",
        "\n",
        "a = np.random.rand(3, 100)  # Uniformly distributed between 0 and 1\n",
        "b = np.random.randint(0, 10, (3, 3))  # Random integers between 0 and 10\n",
        "\n",
        "print(a)\n",
        "print(b)"
      ],
      "metadata": {
        "id": "tEFUeGxuZMdL",
        "colab": {
          "base_uri": "https://localhost:8080/"
        },
        "outputId": "2137ebb5-4fb2-4484-afa0-a7e12e388db6"
      },
      "execution_count": null,
      "outputs": [
        {
          "output_type": "stream",
          "name": "stdout",
          "text": [
            "[[0.50302352 0.9151385  0.63841538 0.30942004 0.88355943 0.17165199\n",
            "  0.32890114 0.73154872 0.81818814 0.07219252 0.14702562 0.70516545\n",
            "  0.82644364 0.85877158 0.95213995 0.76200337 0.40986662 0.8983301\n",
            "  0.73866248 0.1812544  0.77390551 0.13853043 0.17405627 0.50887565\n",
            "  0.87621762 0.01366355 0.61913044 0.02453806 0.51613126 0.72298405\n",
            "  0.9333893  0.42626997 0.28420979 0.48465556 0.20440483 0.93491513\n",
            "  0.16100146 0.2175063  0.41605512 0.9733555  0.90057615 0.65521463\n",
            "  0.01626004 0.89981516 0.45503148 0.81082834 0.73063055 0.70972958\n",
            "  0.58726119 0.5904435  0.85834131 0.60201268 0.71976937 0.99391991\n",
            "  0.91371379 0.82830975 0.26137719 0.56422631 0.28558953 0.2645644\n",
            "  0.53363166 0.76104713 0.85939513 0.46073259 0.62580013 0.33534296\n",
            "  0.68834428 0.57145647 0.92189083 0.85940351 0.18094401 0.20973619\n",
            "  0.82127435 0.04260104 0.15697589 0.72400474 0.45436065 0.97272275\n",
            "  0.03082391 0.12395028 0.45623119 0.08422512 0.16901423 0.59465492\n",
            "  0.35202056 0.23101496 0.14859963 0.80793512 0.1584696  0.0624332\n",
            "  0.75809023 0.95755879 0.37878799 0.64465023 0.75407225 0.16065623\n",
            "  0.56834959 0.54279712 0.6647515  0.67697243]\n",
            " [0.15295949 0.33442667 0.12207406 0.72490215 0.19482743 0.94236646\n",
            "  0.32675391 0.19358771 0.31822008 0.65337304 0.46723653 0.73808628\n",
            "  0.36840511 0.65241104 0.54042145 0.13868319 0.18251801 0.292956\n",
            "  0.6041907  0.36269165 0.99100619 0.33109865 0.05019923 0.89308149\n",
            "  0.95760519 0.91476443 0.78801229 0.49145071 0.1044807  0.74612197\n",
            "  0.6978555  0.91670401 0.45809212 0.92557463 0.20305984 0.12764467\n",
            "  0.56675355 0.08659069 0.01688644 0.12405623 0.36486658 0.15700646\n",
            "  0.07935928 0.03704061 0.91248856 0.84903213 0.91295615 0.75606803\n",
            "  0.54034119 0.60714683 0.37879547 0.89764728 0.75613133 0.97961493\n",
            "  0.06005499 0.67653846 0.79432681 0.26925624 0.67970453 0.95290818\n",
            "  0.85664777 0.06003685 0.9128605  0.8958218  0.14023741 0.77945124\n",
            "  0.46895804 0.87939542 0.85004372 0.6373046  0.04016098 0.86720839\n",
            "  0.01414407 0.80162163 0.09917642 0.8557529  0.25733091 0.27805221\n",
            "  0.89459062 0.01176222 0.27963442 0.01168756 0.94687958 0.82634497\n",
            "  0.54943067 0.15636751 0.18925728 0.23495039 0.0945732  0.24852004\n",
            "  0.12343352 0.56879581 0.85756523 0.23090845 0.31159799 0.80037725\n",
            "  0.24318255 0.35082195 0.99525305 0.0577953 ]\n",
            " [0.62559857 0.33916199 0.67111134 0.03040201 0.5431741  0.97241481\n",
            "  0.56449077 0.49838452 0.53868847 0.51737704 0.31511341 0.23211213\n",
            "  0.06215852 0.70979358 0.57377393 0.0610681  0.44185647 0.03623367\n",
            "  0.9451042  0.40974677 0.3829256  0.72727263 0.58318456 0.01700656\n",
            "  0.04564633 0.19278015 0.04286236 0.0219415  0.49099803 0.32685947\n",
            "  0.19718047 0.87059934 0.53499309 0.03430447 0.48456973 0.5850411\n",
            "  0.83762116 0.64284429 0.99198215 0.27369306 0.06297211 0.94962091\n",
            "  0.06547848 0.34345138 0.46132553 0.38448067 0.73025105 0.39003224\n",
            "  0.22953687 0.41378654 0.24274911 0.24146757 0.09402327 0.22135755\n",
            "  0.01758928 0.95187436 0.12529981 0.51874362 0.56421618 0.4252198\n",
            "  0.41437216 0.55517028 0.14087347 0.18638349 0.15897378 0.47807151\n",
            "  0.98599268 0.16551786 0.27405577 0.67692598 0.79523119 0.52987503\n",
            "  0.62861175 0.92809338 0.36247216 0.91257145 0.19007249 0.38131432\n",
            "  0.60687181 0.71382317 0.44654083 0.53808521 0.82746467 0.32909791\n",
            "  0.62827997 0.16052844 0.13081843 0.23179841 0.75057425 0.00965888\n",
            "  0.80154154 0.85192507 0.96827591 0.0169512  0.09762251 0.0146389\n",
            "  0.27729242 0.92278163 0.6920178  0.15838669]]\n",
            "[[8 2 1]\n",
            " [5 2 7]\n",
            " [7 1 6]]\n"
          ]
        }
      ]
    },
    {
      "cell_type": "code",
      "source": [
        "# Broadcasting in NumPy Arrays\n",
        "\n",
        "a = np.array([1, 2, 3])\n",
        "b = np.array([[1], [2], [3]])\n",
        "print(a)\n",
        "print(b)\n",
        "print(a + b)\n"
      ],
      "metadata": {
        "id": "hVYSFX4Oa--6",
        "colab": {
          "base_uri": "https://localhost:8080/"
        },
        "outputId": "b10ff402-6369-4002-95bd-7478edbf3f6f"
      },
      "execution_count": null,
      "outputs": [
        {
          "output_type": "stream",
          "name": "stdout",
          "text": [
            "[1 2 3]\n",
            "[[1]\n",
            " [2]\n",
            " [3]]\n",
            "[[2 3 4]\n",
            " [3 4 5]\n",
            " [4 5 6]]\n"
          ]
        }
      ]
    },
    {
      "cell_type": "code",
      "source": [
        "https://colab.research.google.com/drive/15o6u6I1xOGD8sNYnn6M1L4kWV1ZWU9cg?authuser=1#scrollTo=oPGYYUK6zs8c&line=1&uniqifier=1"
      ],
      "metadata": {
        "id": "qDPrGud19U6N",
        "outputId": "b6e86bf1-3642-4c2a-c055-f5ad08c570b8",
        "colab": {
          "base_uri": "https://localhost:8080/",
          "height": 105
        }
      },
      "execution_count": 4,
      "outputs": [
        {
          "output_type": "error",
          "ename": "SyntaxError",
          "evalue": "invalid decimal literal (<ipython-input-4-ecabfa57a29c>, line 1)",
          "traceback": [
            "\u001b[0;36m  File \u001b[0;32m\"<ipython-input-4-ecabfa57a29c>\"\u001b[0;36m, line \u001b[0;32m1\u001b[0m\n\u001b[0;31m    https://colab.research.google.com/drive/15o6u6I1xOGD8sNYnn6M1L4kWV1ZWU9cg?authuser=1#scrollTo=oPGYYUK6zs8c&line=1&uniqifier=1\u001b[0m\n\u001b[0m                                             ^\u001b[0m\n\u001b[0;31mSyntaxError\u001b[0m\u001b[0;31m:\u001b[0m invalid decimal literal\n"
          ]
        }
      ]
    },
    {
      "cell_type": "code",
      "source": [
        "np.random.seed(21)\n",
        "random_integers = np.random.randint(1,high=500000, size=(20, 5))\n",
        "print (random_integers)"
      ],
      "metadata": {
        "colab": {
          "base_uri": "https://localhost:8080/"
        },
        "id": "UtiUh9vPdC4a",
        "outputId": "c70ec72c-3491-40c0-b5fc-5000a226554f"
      },
      "execution_count": null,
      "outputs": [
        {
          "output_type": "stream",
          "name": "stdout",
          "text": [
            "[[ 80842 333008 202553 140037  81969]\n",
            " [ 63857  42105 261540 481981 176739]\n",
            " [489984 326386 110795 394863  25024]\n",
            " [ 38317  49982 408830 485118  16119]\n",
            " [407675 231729 265455 109413 103399]\n",
            " [174677 343356 301717 224120 401101]\n",
            " [140473 254634 112262  25063 108262]\n",
            " [375059 406983 208947 115641 296685]\n",
            " [444899 129585 171318 313094 425041]\n",
            " [188411 335140 141681  59641 211420]\n",
            " [287650   8973 477425 382803 465168]\n",
            " [  3975  32213 160603 275485 388234]\n",
            " [246225  56174 244097   9350 496966]\n",
            " [225516 273338  73335 283013 212813]\n",
            " [ 38175 282399 318413 337639 379802]\n",
            " [198049 101115 419547 260219 325793]\n",
            " [148593 425024 348570 117968 107007]\n",
            " [ 52547 180346 178760 305186 262153]\n",
            " [ 11835 449971 494184 472031 353049]\n",
            " [476442  35455 191553 384154  29917]]\n"
          ]
        }
      ]
    }
  ]
}